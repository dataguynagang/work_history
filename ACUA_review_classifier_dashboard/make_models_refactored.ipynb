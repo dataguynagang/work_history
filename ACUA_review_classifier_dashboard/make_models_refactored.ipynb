{
 "cells": [
  {
   "cell_type": "code",
   "execution_count": null,
   "metadata": {},
   "outputs": [],
   "source": [
    "import pandas as pd\n",
    "import numpy as np"
   ]
  },
  {
   "cell_type": "markdown",
   "metadata": {},
   "source": [
    "## 1. 데이터 로드 및 준비"
   ]
  },
  {
   "cell_type": "code",
   "execution_count": null,
   "metadata": {},
   "outputs": [],
   "source": [
    "# 전처리된 리뷰 데이터 로드\n",
    "df_reviews = pd.read_pickle('./reviews.pickle')\n",
    "\n",
    "# 모델 정보 추출을 위한 데이터프레임 복사 및 중복 제거\n",
    "df_models = df_reviews[['브랜드', '제품명']].copy()\n",
    "df_models.drop_duplicates(inplace=True)\n",
    "df_models.reset_index(drop=True, inplace=True)"
   ]
  },
  {
   "cell_type": "markdown",
   "metadata": {},
   "source": [
    "## 2. 모델 정보 추출 및 정제"
   ]
  },
  {
   "cell_type": "code",
   "execution_count": null,
   "metadata": {},
   "outputs": [],
   "source": [
    "# 정규표현식을 사용하여 용량 정보 추출\n",
    "pattern = r'(\\d+(?:GB|TB))'\n",
    "df_models['용량'] = df_models['제품명'].str.extract(pattern)\n",
    "\n",
    "# 제품명에서 용량 정보를 제거하여 기본 모델명 생성\n",
    "df_models['모델'] = df_models['제품명']\n",
    "storage_list = df_models['용량'].dropna().unique().tolist()\n",
    "for storage_name in storage_list:\n",
    "    df_models['모델'] = df_models['모델'].str.replace(storage_name, '', regex=False)"
   ]
  },
  {
   "cell_type": "code",
   "execution_count": null,
   "metadata": {},
   "outputs": [],
   "source": [
    "# 모델명에서 부가 정보(5G, 플러스 등) 제거\n",
    "model_replace_pattern = r'5G|플러스|울트라|프로|미니|맥스|FE'\n",
    "df_models['모델'] = (df_models['모델']\n",
    "                   .str.replace(model_replace_pattern, '', regex=True)\n",
    "                   .str.replace('A52S', 'A52') # A52S -> A52 통일\n",
    "                   .str.strip())\n"
   ]
  },
  {
   "cell_type": "code",
   "execution_count": null,
   "metadata": {},
   "outputs": [],
   "source": [
    "# 용량이 제거된 제품명 컬럼 생성\n",
    "df_models['제품명(용량x)'] = df_models['제품명']\n",
    "for storage_name in storage_list:\n",
    "    df_models['제품명(용량x)'] = df_models['제품명(용량x)'].str.replace(storage_name, '', regex=False)"
   ]
  },
  {
   "cell_type": "code",
   "execution_count": null,
   "metadata": {},
   "outputs": [],
   "source": [
    "# 모델명을 기준으로 시리즈 분류\n",
    "df_models['시리즈'] = np.nan\n",
    "df_models.loc[df_models['모델'].str.contains('갤럭시A', na=False), '시리즈'] = 'A 시리즈'\n",
    "df_models.loc[df_models['모델'].str.contains('갤럭시S', na=False), '시리즈'] = 'S 시리즈'\n",
    "df_models.loc[df_models['모델'].str.contains('노트', na=False), '시리즈'] = '노트 시리즈'\n",
    "df_models.loc[df_models['모델'].str.contains('폴드|플립', na=False, regex=True), '시리즈'] = '폴더블'\n",
    "\n",
    "# 아이폰의 경우, '시리즈'에 '모델'명을 그대로 사용\n",
    "iphone_mask = df_models['모델'].str.contains('아이폰', na=False)\n",
    "df_models.loc[iphone_mask, '시리즈'] = df_models.loc[iphone_mask, '모델']"
   ]
  },
  {
   "cell_type": "markdown",
   "metadata": {},
   "source": [
    "## 3. 최종 데이터셋 저장"
   ]
  },
  {
   "cell_type": "code",
   "execution_count": null,
   "metadata": {},
   "outputs": [],
   "source": [
    "# 최종 컬럼 선택 및 정렬\n",
    "final_cols = ['제품명', '브랜드', '시리즈', '모델', '용량', '제품명(용량x)']\n",
    "df_models = df_models[final_cols]\n",
    "df_models.sort_values(by=['브랜드', '시리즈', '모델', '용량'], inplace=True)\n",
    "df_models.reset_index(drop=True, inplace=True)\n",
    "\n",
    "# 정제된 모델 데이터프레임 저장\n",
    "df_models.to_pickle('./models.pickle')"
   ]
  }
 ],
 "metadata": {
  "kernelspec": {
   "display_name": "Python 3",
   "language": "python",
   "name": "python3"
  },
  "language_info": {
   "codemirror_mode": {
    "name": "ipython",
    "version": 3
   },
   "file_extension": ".py",
   "mimetype": "text/x-python",
   "name": "python",
   "nbconvert_exporter": "python",
   "pygments_lexer": "ipython3",
   "version": "3.9.13"
  }
 },
 "nbformat": 4,
 "nbformat_minor": 2
}