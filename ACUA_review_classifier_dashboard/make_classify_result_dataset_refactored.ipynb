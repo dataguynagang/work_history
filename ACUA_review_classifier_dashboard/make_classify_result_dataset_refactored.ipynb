{
 "cells": [
  {
   "cell_type": "code",
   "execution_count": null,
   "metadata": {},
   "outputs": [],
   "source": [
    "import pandas as pd\n",
    "import numpy as np\n",
    "from konlpy.tag import Okt"
   ]
  },
  {
   "cell_type": "markdown",
   "metadata": {},
   "source": [
    "## 1. 데이터 로드 및 기본 전처리"
   ]
  },
  {
   "cell_type": "code",
   "execution_count": null,
   "metadata": {},
   "outputs": [],
   "source": [
    "# 분류 결과가 저장된 pickle 파일 로드\n",
    "df_gpt_result = pd.read_pickle('./classify_result/df_result_final.pickle')\n",
    "\n",
    "# 'classify_result' 컬럼이 리스트 형태가 아닌 경우 필터링\n",
    "df_gpt_result = df_gpt_result[df_gpt_result['classify_result'].apply(lambda x: isinstance(x, list))].copy()\n",
    "df_gpt_result = df_gpt_result[df_gpt_result['classify_result'].apply(len) > 0].reset_index(drop=True)"
   ]
  },
  {
   "cell_type": "markdown",
   "metadata": {},
   "source": [
    "## 2. 분류 결과 데이터셋 생성"
   ]
  },
  {
   "cell_type": "code",
   "execution_count": null,
   "metadata": {},
   "outputs": [],
   "source": [
    "# 'classify_result' 리스트를 개별 행으로 분리 (explode)\n",
    "df_exploded = df_gpt_result.explode('classify_result').dropna().reset_index(drop=True)\n",
    "\n",
    "# 리스트 원소의 길이가 3이 아닌 잘못된 형식의 데이터 처리\n",
    "def extract_data(row):\n",
    "    if isinstance(row, list) and len(row) == 3:\n",
    "        return pd.Series(row, index=['review_type', 'review_comment', 'review_satisfy'])\n",
    "    return pd.Series([np.nan, np.nan, np.nan], index=['review_type', 'review_comment', 'review_satisfy'])\n",
    "\n",
    "# 분리된 'classify_result'에서 속성, 내용, 만족도 추출\n",
    "extracted_cols = df_exploded['classify_result'].apply(extract_data)\n",
    "\n",
    "# 원본 데이터프레임과 추출된 컬럼 병합\n",
    "df_processed = pd.concat([df_exploded.drop(columns=['classify_result']), extracted_cols], axis=1)\n",
    "df_processed.dropna(subset=['review_comment', 'review_type'], inplace=True)\n",
    "df_processed = df_processed[df_processed['review_comment'].str.len() > 5].reset_index(drop=True)"
   ]
  },
  {
   "cell_type": "markdown",
   "metadata": {},
   "source": [
    "## 3. 데이터 정제"
   ]
  },
  {
   "cell_type": "code",
   "execution_count": null,
   "metadata": {},
   "outputs": [],
   "source": [
    "# 리뷰 속성(review_type) 값 통일\n",
    "type_replace_map = {\n",
    "    '가성비': '가격', '할인': '가격',\n",
    "    '디스플레이': '화면', '화면 크기': '화면', '화질': '화면',\n",
    "    '무게감': '무게',\n",
    "    '배터리 수명': '배터리',\n",
    "    '사용': '사용성', '사용성': '기능',\n",
    "    '사은품': '구성', '케이스': '구성', '충전기': '구성',\n",
    "    '사이즈': '크기',\n",
    "    '사진': '카메라', '카메라 성능': '카메라',\n",
    "    '속도': '성능',\n",
    "    '자급제폰': '자급제',\n",
    "    '컬러': '색상'\n",
    "}\n",
    "df_processed['review_type'] = df_processed['review_type'].replace(type_replace_map)\n",
    "\n",
    "# 10회 미만으로 언급된 속성 제거\n",
    "type_counts = df_processed['review_type'].value_counts()\n",
    "valid_types = type_counts[type_counts > 10].index.tolist()\n",
    "df_processed = df_processed[df_processed['review_type'].isin(valid_types)].reset_index(drop=True)"
   ]
  },
  {
   "cell_type": "code",
   "execution_count": null,
   "metadata": {},
   "outputs": [],
   "source": [
    "# 만족/불만족(review_satisfy) 값 통일\n",
    "satisfy_map = {\n",
    "    1.0: '만족', 1: '만족', '1': '만족', '+1': '만족', '+': '만족', \n",
    "    'positive': '만족', 'Positive': '만족', '좋습니다.': '만족',\n",
    "    -1.0: '불만족', -1: '불만족', '-1': '불만족',\n",
    "    'negative': '불만족', 'Negative': '불만족', 'dissatisfaction': '불만족',\n",
    "    '0': '보통', 0: '보통', 'neutral': '보통'\n",
    "}\n",
    "df_processed['review_satisfy'] = df_processed['review_satisfy'].replace(satisfy_map)\n",
    "df_processed['review_satisfy'].fillna('만족', inplace=True)\n",
    "\n",
    "# 정의되지 않은 값 확인 (있을 경우 추가 처리 필요)\n",
    "# print(df_processed[~df_processed['review_satisfy'].isin(['만족', '불만족', '보통'])]['review_satisfy'].unique())"
   ]
  },
  {
   "cell_type": "markdown",
   "metadata": {},
   "source": [
    "## 4. 최종 데이터셋 저장 (리뷰 속성 분류) "
   ]
  },
  {
   "cell_type": "code",
   "execution_count": null,
   "metadata": {},
   "outputs": [],
   "source": [
    "# 최종 데이터프레임 저장\n",
    "df_processed.reset_index(inplace=True)\n",
    "df_processed.rename(columns={'index': 'classify_review_id'}, inplace=True)\n",
    "df_processed.to_pickle('./df_gpt_result_preprocessed.pickle')\n",
    "\n",
    "# 대시보드 정렬용 데이터프레임 저장\n",
    "df_review_type_count_for_sort = df_processed['review_type'].value_counts().reset_index()\n",
    "df_review_type_count_for_sort.to_pickle('./df_review_type_count_for_sort.pickle')"
   ]
  },
  {
   "cell_type": "markdown",
   "metadata": {},
   "source": [
    "## 5. 키워드 추출 데이터셋 생성"
   ]
  },
  {
   "cell_type": "code",
   "execution_count": null,
   "metadata": {},
   "outputs": [],
   "source": [
    "# Okt 형태소 분석기 초기화\n",
    "okt = Okt()\n",
    "\n",
    "# 리뷰 내용에서 명사 추출\n",
    "df_processed['review_words'] = df_processed['review_comment'].apply(lambda x: okt.nouns(str(x)) if pd.notna(x) else [])"
   ]
  },
  {
   "cell_type": "code",
   "execution_count": null,
   "metadata": {},
   "outputs": [],
   "source": [
    "# 추출된 명사를 개별 행으로 분리\n",
    "df_wordset = df_processed[['classify_review_id', 'review_words']].explode('review_words')\n",
    "df_wordset.rename(columns={'review_words': 'word'}, inplace=True)\n",
    "\n",
    "# 한 글자 단어(‘폰’ 제외) 및 불필요한 단어 제거\n",
    "df_wordset = df_wordset[(df_wordset['word'].str.len() > 1) | (df_wordset['word'] == '폰')]\n",
    "df_wordset['word'] = df_wordset['word'].replace('자급', '자급제')"
   ]
  },
  {
   "cell_type": "code",
   "execution_count": null,
   "metadata": {},
   "outputs": [],
   "source": [
    "# 단어 동의어 처리\n",
    "replace_list = [\n",
    "    ['감상', '감사'], ['감샴당', '감사'], ['갤럭', '갤럭시'], ['갤릭시', '갤럭시'],\n",
    "    ['검은색', '검정색'], ['검정', '검정색'], ['금제', '요금제'], ['데이타', '데이터'],\n",
    "    ['듭니', '듭니다'], ['때매', '때문'], ['때메', '때문'], ['만족감', '만족'],\n",
    "    ['만족도', '만족'], ['미개', '미개봉'], ['번가', '11번가'], ['별루', '별로'],\n",
    "    ['부모', '부모님'], ['불량품', '불량'], ['뽁뽁', '뽁뽁이'], ['사은', '사은품'],\n",
    "    ['살작', '살짝'], ['어머님', '어머니'], ['어머님께', '어머니'], ['어플리케이션', '어플'],\n",
    "    ['역쉬', '역시'], ['울트랄', '울트라'], ['유투브', '유튜브'], ['유툽', '유튜브'],\n",
    "    ['유튜', '유튜브'], ['유튜버들', '유튜버'], ['진짜루', '진짜'], ['진짜진짜', '진짜'],\n",
    "    ['최신기', '최신'], ['최신기종', '최신'], ['파란색', '파란'], ['파랑', '파란'],\n",
    "    ['파랑색', '파란'], ['핑쿠', '핑크'], ['핑쿠색', '핑크'], ['핑크색', '핑크'],\n",
    "    ['하늘', '하늘색'], ['하늘빛', '하늘색'], ['휴대전화', '휴대폰']\n",
    "]"
   ]
  },
  {
   "cell_type": "code",
   "execution_count": null,
   "metadata": {},
   "outputs": [],
   "source": [
    "for old, new in replace_list:\n",
    "    df_wordset['word'] = df_wordset['word'].replace(old, new)"
   ]
  },
  {
   "cell_type": "code",
   "execution_count": null,
   "metadata": {},
   "outputs": [],
   "source": [
    "# 최종 키워드 데이터셋 저장\n",
    "df_wordset.to_pickle('./df_classify_wordset.pickle')"
   ]
  }
 ],
 "metadata": {
  "kernelspec": {
   "display_name": "Python 3",
   "language": "python",
   "name": "python3"
  },
  "language_info": {
   "codemirror_mode": {
    "name": "ipython",
    "version": 3
   },
   "file_extension": ".py",
   "mimetype": "text/x-python",
   "name": "python",
   "nbconvert_exporter": "python",
   "pygments_lexer": "ipython3",
   "version": "3.9.13"
  }
 },
 "nbformat": 4,
 "nbformat_minor": 2
}