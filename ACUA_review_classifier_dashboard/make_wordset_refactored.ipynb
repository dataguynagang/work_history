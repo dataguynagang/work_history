{
 "cells": [
  {
   "cell_type": "code",
   "execution_count": null,
   "metadata": {},
   "outputs": [],
   "source": [
    "import pandas as pd\n",
    "import numpy as np\n",
    "from konlpy.tag import Okt"
   ]
  },
  {
   "cell_type": "markdown",
   "metadata": {},
   "source": [
    "## 1. 데이터 로드 및 명사 추출"
   ]
  },
  {
   "cell_type": "code",
   "execution_count": null,
   "metadata": {},
   "outputs": [],
   "source": [
    "# 리뷰 데이터 로드\n",
    "df_reviews = pd.read_pickle('./reviews.pickle')\n",
    "\n",
    "# Okt 형태소 분석기 초기화\n",
    "okt = Okt()\n",
    "\n",
    "# 리뷰 원문에서 명사 추출 (오류 발생 시 빈 리스트 반환)\n",
    "def safe_get_nouns(text):\n",
    "    try:\n",
    "        return okt.nouns(str(text))\n",
    "    except Exception:\n",
    "        return []\n",
    "\n",
    "df_reviews['review_nouns'] = df_reviews['리뷰'].apply(safe_get_nouns)"
   ]
  },
  {
   "cell_type": "markdown",
   "metadata": {},
   "source": [
    "## 2. Wordset 데이터프레임 생성"
   ]
  },
  {
   "cell_type": "code",
   "execution_count": null,
   "metadata": {},
   "outputs": [],
   "source": [
    "# 명사 리스트를 개별 행으로 분리 (explode)\n",
    "df_wordset = df_reviews[['review_number', 'review_nouns']].explode('review_nouns')\n",
    "\n",
    "# 컬럼명 변경 및 결측치 제거\n",
    "df_wordset.rename(columns={'review_nouns': 'word'}, inplace=True)\n",
    "df_wordset.dropna(subset=['word'], inplace=True)\n",
    "df_wordset.reset_index(drop=True, inplace=True)"
   ]
  },
  {
   "cell_type": "markdown",
   "metadata": {},
   "source": [
    "## 3. 데이터 저장"
   ]
  },
  {
   "cell_type": "code",
   "execution_count": null,
   "metadata": {},
   "outputs": [],
   "source": [
    "# 최종 wordset 데이터 저장 (pickle, csv)\n",
    "df_wordset.to_pickle('./wordset.pickle')\n",
    "df_wordset.to_csv('./wordset.csv', index=False, encoding='utf-8-sig')"
   ]
  }
 ],
 "metadata": {
  "kernelspec": {
   "display_name": "Python 3",
   "language": "python",
   "name": "python3"
  },
  "language_info": {
   "codemirror_mode": {
    "name": "ipython",
    "version": 3
   },
   "file_extension": ".py",
   "mimetype": "text/x-python",
   "name": "python",
   "nbconvert_exporter": "python",
   "pygments_lexer": "ipython3",
   "version": "3.9.13"
  }
 },
 "nbformat": 4,
 "nbformat_minor": 2
}