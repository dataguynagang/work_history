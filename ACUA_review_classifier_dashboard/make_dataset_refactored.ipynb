{
 "cells": [
  {
   "cell_type": "code",
   "execution_count": null,
   "metadata": {},
   "outputs": [],
   "source": [
    "import numpy as np\n",
    "import pandas as pd\n",
    "import xlwings as xw\n",
    "import re"
   ]
  },
  {
   "cell_type": "code",
   "execution_count": null,
   "metadata": {},
   "outputs": [],
   "source": [
    "# DRM이 적용된 파일을 읽기 위해 xlwings 사용\n",
    "# xlwings 인스턴스 생성\n",
    "app = xw.App(visible=False)\n",
    "\n",
    "# CSV 파일 로드\n",
    "wb1 = app.books.open('./네이버 MX_통합.csv')\n",
    "sheet1 = wb1.sheets[0].used_range.value\n",
    "df_mx_all = pd.DataFrame(sheet1)\n",
    "df_mx_all.columns = df_mx_all.iloc[0,:]\n",
    "df_mx_all = df_mx_all.iloc[1:,:]\n",
    "\n",
    "wb2 = app.books.open('./갤럭시폴드5.csv')\n",
    "sheet2 = wb2.sheets[0].used_range.value\n",
    "df_fold5 = pd.DataFrame(sheet2)\n",
    "df_fold5.columns = df_fold5.iloc[0,:]\n",
    "df_fold5 = df_fold5.iloc[1:,:]\n",
    "\n",
    "wb3 = app.books.open('./갤럭시플립5.csv')\n",
    "sheet3 = wb3.sheets[0].used_range.value\n",
    "df_flip5 = pd.DataFrame(sheet3)\n",
    "df_flip5.columns = df_flip5.iloc[0,:]\n",
    "df_flip5 = df_flip5.iloc[1:,:]\n",
    "\n",
    "# xlwings 인스턴스 종료\n",
    "app.kill()"
   ]
  },
  {
   "cell_type": "code",
   "execution_count": null,
   "metadata": {},
   "outputs": [],
   "source": [
    "# '휴대폰' 카테고리 데이터 필터링\n",
    "df_mx_smartphone = df_mx_all[df_mx_all['카테고리'].str.contains('디지털/가전>휴대폰>', na=False)]"
   ]
  },
  {
   "cell_type": "code",
   "execution_count": null,
   "metadata": {},
   "outputs": [],
   "source": [
    "# 폴드5, 플립5 데이터프레임의 컬럼을 통일\n",
    "df_fold5 = df_fold5[df_mx_smartphone.columns]\n",
    "df_flip5 = df_flip5[df_mx_smartphone.columns]"
   ]
  },
  {
   "cell_type": "code",
   "execution_count": null,
   "metadata": {},
   "outputs": [],
   "source": [
    "# 모든 데이터프레임 병합\n",
    "df_reviews = pd.concat([df_mx_smartphone, df_fold5, df_flip5])\n",
    "\n",
    "# '해외' 키워드가 포함된 제품 제외\n",
    "df_reviews = df_reviews[~df_reviews['제품명'].str.contains('해외', na=False)]"
   ]
  },
  {
   "cell_type": "code",
   "execution_count": null,
   "metadata": {},
   "outputs": [],
   "source": [
    "# 리뷰 수가 20개 이상인 제품만 필터링\n",
    "product_count = df_reviews['제품명'].value_counts().reset_index()\n",
    "product_count_over_20 = product_count[product_count['count']>20]\n",
    "product_count_over_20_list = product_count_over_20['제품명'].to_list()\n",
    "\n",
    "df_reviews = df_reviews[df_reviews['제품명'].isin(product_count_over_20_list)]"
   ]
  },
  {
   "cell_type": "code",
   "execution_count": null,
   "metadata": {},
   "outputs": [],
   "source": [
    "# 날짜 데이터 형식 변환\n",
    "df_reviews['날짜'] = pd.to_datetime(df_reviews['날짜'], errors='coerce')\n",
    "\n",
    "# 제품명 정제: 불필요한 키워드 제거\n",
    "df_reviews['제품명'] = (df_reviews['제품명']\n",
    "                      .str.replace('[자급제]', '', regex=False)\n",
    "                      .str.replace('(자급제)', '', regex=False)\n",
    "                      .str.replace('[KT]', '', regex=False)\n",
    "                      .str.replace('[SKT]', '', regex=False)\n",
    "                      .str.replace('(LG U+)', '', regex=False)\n",
    "                      .str.replace('(SKT)', '', regex=False)\n",
    "                      .str.replace('(KT)', '', regex=False)\n",
    "                      .str.replace('삼성전자', '', regex=False)\n",
    "                      .str.replace('Apple', '', regex=False)\n",
    "                      .str.strip())\n"
   ]
  },
  {
   "cell_type": "code",
   "execution_count": null,
   "metadata": {},
   "outputs": [],
   "source": [
    "# 브랜드명 정제\n",
    "df_reviews['브랜드'] = (df_reviews['브랜드']\n",
    "                    .str.replace('제조사', '', regex=False)\n",
    "                    .str.replace('브랜드', '', regex=False)\n",
    "                    .str.replace('갤럭시', '삼성전자', regex=False)\n",
    "                    .str.replace('Apple', '애플', regex=False)\n",
    "                    .str.strip())\n"
   ]
  },
  {
   "cell_type": "code",
   "execution_count": null,
   "metadata": {},
   "outputs": [],
   "source": [
    "# 리뷰 길이를 기준으로 제품별 순위 부여 (상위 50개 필터링)\n",
    "df_reviews['review_len'] = df_reviews['리뷰'].str.len()\n",
    "df_reviews['len_rank'] = df_reviews.groupby('제품명')['review_len'].rank(method='first', ascending=False)\n",
    "df_reviews = df_reviews[df_reviews['len_rank'] <= 50]"
   ]
  },
  {
   "cell_type": "code",
   "execution_count": null,
   "metadata": {},
   "outputs": [],
   "source": [
    "# 인덱스 재설정 및 리뷰 번호 부여\n",
    "df_reviews.reset_index(drop=True, inplace=True)\n",
    "df_reviews.reset_index(inplace=True)\n",
    "df_reviews.rename(columns={'index':'review_number'}, inplace=True)"
   ]
  },
  {
   "cell_type": "code",
   "execution_count": null,
   "metadata": {},
   "outputs": [],
   "source": [
    "# 정제된 리뷰 데이터프레임 저장\n",
    "df_reviews.to_pickle('./reviews.pickle')"
   ]
  },
  {
   "cell_type": "markdown",
   "metadata": {},
   "source": [
    "--- \n",
    "## 모델 정보 데이터셋 생성"
   ]
  },
  {
   "cell_type": "code",
   "execution_count": null,
   "metadata": {},
   "outputs": [],
   "source": [
    "# 모델 정보 추출을 위한 데이터프레임 복사 및 중복 제거\n",
    "df_models = df_reviews[['브랜드','제품명']].copy()\n",
    "df_models.drop_duplicates(inplace=True)\n",
    "df_models.reset_index(drop=True, inplace=True)"
   ]
  },
  {
   "cell_type": "code",
   "execution_count": null,
   "metadata": {},
   "outputs": [],
   "source": [
    "# 정규표현식을 사용하여 용량 정보 추출\n",
    "pattern = r'(\\d+(?:GB|TB))'\n",
    "df_models['용량'] = df_models['제품명'].str.extract(pattern)"
   ]
  },
  {
   "cell_type": "code",
   "execution_count": null,
   "metadata": {},
   "outputs": [],
   "source": [
    "# 제품명에서 용량 정보를 제거하여 기본 모델명 추출\n",
    "storage_list = df_models['용량'].unique().tolist()\n",
    "df_models['모델'] = df_models['제품명']\n",
    "\n",
    "for storage_name in storage_list:\n",
    "    if pd.notna(storage_name):\n",
    "        df_models['모델'] = df_models['모델'].str.replace(storage_name, '', regex=False)"
   ]
  },
  {
   "cell_type": "code",
   "execution_count": null,
   "metadata": {},
   "outputs": [],
   "source": [
    "# 모델명 정제: 부가 정보(5G, 플러스 등) 제거\n",
    "df_models['모델'] = (df_models['모델']\n",
    "                   .str.replace('5G', '', regex=False)\n",
    "                   .str.replace('플러스', '', regex=False)\n",
    "                   .str.replace('울트라', '', regex=False)\n",
    "                   .str.replace('프로', '', regex=False)\n",
    "                   .str.replace('미니', '', regex=False)\n",
    "                   .str.replace('맥스', '', regex=False)\n",
    "                   .str.replace('FE', '', regex=False)\n",
    "                   .str.replace('A52S', 'A52', regex=False) # A52S -> A52 통일\n",
    "                   .str.strip())\n"
   ]
  },
  {
   "cell_type": "code",
   "execution_count": null,
   "metadata": {},
   "outputs": [],
   "source": [
    "# 제품명(용량x) 컬럼 생성\n",
    "df_models['제품명(용량x)'] = df_models['제품명']\n",
    "for storage_name in storage_list:\n",
    "    if pd.notna(storage_name):\n",
    "        df_models['제품명(용량x)'] = df_models['제품명(용량x)'].str.replace(storage_name, '', regex=False)"
   ]
  },
  {
   "cell_type": "code",
   "execution_count": null,
   "metadata": {},
   "outputs": [],
   "source": [
    "# 모델명을 기준으로 시리즈 분류\n",
    "df_models['시리즈'] = np.nan\n",
    "df_models.loc[df_models['모델'].str.contains('갤럭시A', na=False), '시리즈'] = 'A 시리즈'\n",
    "df_models.loc[df_models['모델'].str.contains('갤럭시S', na=False), '시리즈'] = 'S 시리즈'\n",
    "df_models.loc[df_models['모델'].str.contains('노트', na=False), '시리즈'] = '노트 시리즈'\n",
    "df_models.loc[df_models['모델'].str.contains('폴드|플립', na=False, regex=True), '시리즈'] = '폴더블'\n",
    "df_models.loc[df_models['모델'].str.contains('아이폰', na=False), '시리즈'] = '아이폰'"
   ]
  },
  {
   "cell_type": "code",
   "execution_count": null,
   "metadata": {},
   "outputs": [],
   "source": [
    "# 최종 컬럼 선택 및 정렬\n",
    "final_cols = ['제품명', '브랜드', '시리즈', '모델', '용량', '제품명(용량x)']\n",
    "df_models = df_models[final_cols]\n",
    "df_models.sort_values(by=['브랜드', '시리즈', '모델', '용량'], inplace=True)\n",
    "df_models.reset_index(drop=True, inplace=True)"
   ]
  },
  {
   "cell_type": "code",
   "execution_count": null,
   "metadata": {},
   "outputs": [],
   "source": [
    "# 정제된 모델 데이터프레임 저장\n",
    "df_models.to_pickle('./models.pickle')"
   ]
  }
 ],
 "metadata": {
  "kernelspec": {
   "display_name": "Python 3",
   "language": "python",
   "name": "python3"
  },
  "language_info": {
   "codemirror_mode": {
    "name": "ipython",
    "version": 3
   },
   "file_extension": ".py",
   "mimetype": "text/x-python",
   "name": "python",
   "nbconvert_exporter": "python",
   "pygments_lexer": "ipython3",
   "version": "3.9.13"
  }
 },
 "nbformat": 4,
 "nbformat_minor": 2
}