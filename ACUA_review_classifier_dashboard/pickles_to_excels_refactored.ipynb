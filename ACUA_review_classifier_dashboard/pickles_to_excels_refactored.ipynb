{
 "cells": [
  {
   "cell_type": "markdown",
   "metadata": {},
   "source": [
    "# Pickle to Excel 변환 스크립트\n",
    "\n",
    "이 노트북은 프로젝트의 다른 단계에서 생성된 주요 데이터프레임(`pickle` 파일)을 \n",
    "Excel 파일(`.xlsx`)로 변환하여 저장합니다."
   ]
  },
  {
   "cell_type": "code",
   "execution_count": null,
   "metadata": {},
   "outputs": [],
   "source": [
    "import pandas as pd\n",
    "import openpyxl"
   ]
  },
  {
   "cell_type": "markdown",
   "metadata": {},
   "source": [
    "## 1. 데이터 로드"
   ]
  },
  {
   "cell_type": "code",
   "execution_count": null,
   "metadata": {},
   "outputs": [],
   "source": [
    "# 분석 과정에서 생성된 pickle 파일들을 데이터프레임으로 로드\n",
    "df_models = pd.read_pickle('./models.pickle')\n",
    "df_reviews = pd.read_pickle('./reviews.pickle')\n",
    "df_gpt_result_preprocessed = pd.read_pickle('./df_gpt_result_preprocessed.pickle')\n",
    "df_classify_wordset = pd.read_pickle('./df_classify_wordset.pickle')\n",
    "df_review_type_count_for_sort = pd.read_pickle('./df_review_type_count_for_sort.pickle')"
   ]
  },
  {
   "cell_type": "markdown",
   "metadata": {},
   "source": [
    "## 2. Excel 파일로 저장"
   ]
  },
  {
   "cell_type": "code",
   "execution_count": null,
   "metadata": {},
   "outputs": [],
   "source": [
    "# 각 데이터프레임을 별도의 Excel 파일로 저장\n",
    "# index=False 옵션으로 불필요한 인덱스 컬럼 제외\n",
    "df_models.to_excel('models.xlsx', index=False)\n",
    "df_reviews.to_excel('reviews.xlsx', index=False)\n",
    "df_gpt_result_preprocessed.to_excel('df_gpt_result_preprocessed.xlsx', index=False)\n",
    "df_classify_wordset.to_excel('df_classify_wordset.xlsx', index=False)\n",
    "df_review_type_count_for_sort.to_excel('df_review_type_count_for_sort.xlsx', index=False)"
   ]
  }
 ],
 "metadata": {
  "kernelspec": {
   "display_name": "Python 3",
   "language": "python",
   "name": "python3"
  },
  "language_info": {
   "codemirror_mode": {
    "name": "ipython",
    "version": 3
   },
   "file_extension": ".py",
   "mimetype": "text/x-python",
   "name": "python",
   "nbconvert_exporter": "python",
   "pygments_lexer": "ipython3",
   "version": "3.9.13"
  }
 },
 "nbformat": 4,
 "nbformat_minor": 2
}