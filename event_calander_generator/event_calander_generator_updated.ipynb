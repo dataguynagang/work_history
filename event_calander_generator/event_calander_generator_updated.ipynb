{
 "cells": [
  {
   "cell_type": "markdown",
   "metadata": {},
   "source": [
    "## 이벤트 캘린더 생성기\n",
    "\n",
    "이 노트북은 여러 CSV 파일에 나뉘어 저장된 웹사이트 페이지 방문 기록을 분석하여, 의미 있는 이벤트 기간을 추출하고, 그 결과를 `.ics` 파일 형식의 캘린더로 만드는 과정을 담고 있음.\n",
    "\n",
    "**주요 작업 흐름:**\n",
    "1. **데이터 로드 및 병합:** `all_pages_visit_daily_`로 시작하는 모든 CSV 파일을 불러와 하나의 데이터프레임으로 병합.\n",
    "2. **데이터 정제:** 방문 수가 적은 데이터를 제거하고, 불필요한 페이지를 제외.\n",
    "3. **연속된 이벤트 기간 추출:** 연속된 날짜에 방문 기록이 있는 페이지만을 필터링.\n",
    "4. **이벤트 그룹화:** 연속된 날짜를 기준으로 각 이벤트를 그룹화.\n",
    "5. **캠페인 정보 매핑:** 페이지 이름에 해당하는 캠페인 이름을 외부 엑셀 파일에서 불러와 매핑.\n",
    "6. **캘린더 파일 생성:** 최종적으로 정리된 이벤트 정보를 바탕으로 `.ics` 캘린더 파일을 생성."
   ]
  },
  {
   "cell_type": "code",
   "execution_count": null,
   "metadata": {},
   "outputs": [],
   "source": [
    "# -*- coding: utf-8 -*-\n",
    "import os\n",
    "import numpy as np\n",
    "import pandas as pd\n",
    "import datetime\n",
    "import xlwings as xw\n",
    "import vobject"
   ]
  },
  {
   "cell_type": "markdown",
   "metadata": {},
   "source": [
    "### 1. 데이터 로드 및 병합"
   ]
  },
  {
   "cell_type": "code",
   "execution_count": null,
   "metadata": {},
   "outputs": [],
   "source": [
    "# 현재 폴더에서 'all_pages_visit_daily_'로 시작하는 CSV 파일 모두 읽어오기.\n",
    "# 각 CSV 파일은 월별 방문 기록을 담고 있음.\n",
    "\n",
    "path = os.getcwd()\n",
    "csv_files = [f for f in os.listdir(path) if f.startswith('all_pages_visit_daily_') and f.endswith('.csv')]\n",
    "\n",
    "# 여러 개의 데이터프레임을 담을 리스트 생성.\n",
    "df_list = []\n",
    "for file in csv_files:\n",
    "    df = pd.read_csv(os.path.join(path, file), index_col=False, parse_dates=['Date'])\n",
    "    df_list.append(df)\n",
    "\n",
    "# 모든 월별 데이터프레임을 하나로 병합.\n",
    "df_all_month = pd.concat(df_list, ignore_index=True)\n",
    "df_all_month.head()"
   ]
  },
  {
   "cell_type": "markdown",
   "metadata": {},
   "source": [
    "### 2. 데이터 정제"
   ]
  },
  {
   "cell_type": "code",
   "execution_count": null,
   "metadata": {},
   "outputs": [],
   "source": [
    "# 분석 신뢰도를 높이기 위해, 일일 방문(Visits) 수가 특정 기준 이하인 데이터는 분석에서 제외.\n",
    "VISITS_THRESHOLD = 1000\n",
    "\n",
    "# 방문 수가 기준치보다 큰 데이터만 남김.\n",
    "df_filtered = df_all_month[df_all_month['Visits'] > VISITS_THRESHOLD].copy()\n",
    "\n",
    "# 결측치가 있는 행을 제거하고, 'Pages'와 'Date'를 기준으로 데이터 정렬.\n",
    "df_filtered.dropna(how='any', inplace=True)\n",
    "df_filtered.sort_values(by=['Pages', 'Date'], ascending=True, inplace=True)\n",
    "df_filtered.reset_index(drop=True, inplace=True)\n",
    "\n",
    "# 분석에 필요한 컬럼만 선택.\n",
    "df_filtered = df_filtered[['Pages', 'Date', 'Visits']]\n",
    "\n",
    "# 분석에서 제외할 페이지 목록.\n",
    "del_page_names = ['sec:event:event-end', 'sec:event:indexexhibitioncollection']\n",
    "df_filtered = df_filtered[~df_filtered['Pages'].isin(del_page_names)]\n",
    "\n",
    "df_filtered.head()"
   ]
  },
  {
   "cell_type": "markdown",
   "metadata": {},
   "source": [
    "### 3. 연속된 이벤트 기간 추출"
   ]
  },
  {
   "cell_type": "code",
   "execution_count": null,
   "metadata": {},
   "outputs": [],
   "source": [
    "# 각 페이지별로 날짜가 연속되는지 확인하기 위해, 하루 전과 하루 후의 날짜 계산.\n",
    "# pandas의 shift 기능을 사용하면 그룹별로 이전/이후 데이터를 효율적으로 가져오기 가능.\n",
    "df_filtered['one_day_before'] = df_filtered.groupby('Pages')['Date'].shift(1)\n",
    "df_filtered['one_day_after'] = df_filtered.groupby('Pages')['Date'].shift(-1)\n",
    "\n",
    "# 현재 날짜와 하루 전/후 날짜의 차이 계산.\n",
    "is_one_day_before_sequence = (df_filtered['Date'] - df_filtered['one_day_before']) == datetime.timedelta(days=1)\n",
    "is_one_day_after_sequence = (df_filtered['one_day_after'] - df_filtered['Date']) == datetime.timedelta(days=1)\n",
    "\n",
    "# 하루 전 또는 하루 후에 연속된 데이터가 있는 경우 'sequence' 컬럼을 True로 설정.\n",
    "df_filtered['sequence'] = is_one_day_before_sequence | is_one_day_after_sequence\n",
    "\n",
    "# 연속된 날짜를 가진 데이터만 필터링.\n",
    "df_sequence_only = df_filtered[df_filtered['sequence'] == True].copy()\n",
    "df_sequence_only.reset_index(drop=True, inplace=True)\n",
    "\n",
    "df_sequence_only.head()"
   ]
  },
  {
   "cell_type": "markdown",
   "metadata": {},
   "source": [
    "### 4. 이벤트 그룹화"
   ]
  },
  {
   "cell_type": "code",
   "execution_count": null,
   "metadata": {},
   "outputs": [],
   "source": [
    "# 연속된 날짜들을 하나의 그룹으로 묶는 작업 수행.\n",
    "# 날짜의 차이가 1일이 아닌 경우, 새로운 그룹이 시작된 것으로 간주.\n",
    "df_sequence_only['date_diff'] = df_sequence_only.groupby('Pages')['Date'].diff()\n",
    "df_sequence_only['new_group'] = df_sequence_only['date_diff'] != datetime.timedelta(days=1)\n",
    "\n",
    "# 새로운 그룹이 시작될 때마다 그룹 번호를 1씩 증가시켜 고유한 그룹 ID 부여.\n",
    "df_sequence_only['group_by_pages'] = df_sequence_only.groupby('Pages')['new_group'].cumsum()\n",
    "\n",
    "df_sequence_only.head()"
   ]
  },
  {
   "cell_type": "markdown",
   "metadata": {},
   "source": [
    "### 5. 캠페인 정보 매핑"
   ]
  },
  {
   "cell_type": "code",
   "execution_count": null,
   "metadata": {},
   "outputs": [],
   "source": [
    "# 'page_campaign_name.xlsx' 엑셀 파일에서 페이지 이름과 캠페인 이름이 매핑된 데이터 불러오기.\n",
    "# DRM 보안 프로그램으로 인해 xlwings를 사용하여 엑셀을 직접 실행하고 데이터 읽어오기.\n",
    "try:\n",
    "    workbook = xw.Book('page_campaign_name.xlsx')\n",
    "    sheet = workbook.sheets[0]\n",
    "    df_page_campaign_name = sheet.used_range.options(pd.DataFrame, header=1, index=False).value\n",
    "    workbook.app.quit()\n",
    "\n",
    "    # 페이지 이름을 key, 캠페인 이름을 value로 하는 딕셔너리 생성.\n",
    "    campaign_dic = df_page_campaign_name.set_index('page_name')['campaign_name'].to_dict()\n",
    "\n",
    "    # map 함수를 사용하여 캠페인 이름 매핑.\n",
    "    df_sequence_only['campaign_name'] = df_sequence_only['Pages'].map(campaign_dic)\n",
    "except Exception as e:\n",
    "    print(f\"엑셀 파일 처리 중 오류 발생: {e}\")\n",
    "    # 엑셀 파일이 없는 경우를 대비하여 빈 컬럼 생성.\n",
    "    df_sequence_only['campaign_name'] = np.nan\n",
    "\n",
    "# 캠페인 이름이 없는 경우, 페이지 이름으로 채우기.\n",
    "mask = df_sequence_only['campaign_name'].isna() & (df_sequence_only['Pages'].str.startswith('sec:event:') | df_sequence_only['Pages'].str.startswith('sec:new-release:'))\n",
    "df_sequence_only.loc[mask, 'campaign_name'] = df_sequence_only.loc[mask, 'Pages']\n",
    "\n",
    "# 최종적으로 캠페인 이름이 없는 데이터는 제거.\n",
    "df_campaign_only = df_sequence_only.dropna(subset=['campaign_name']).copy()\n",
    "df_campaign_only['group_by_pages'] = df_campaign_only['group_by_pages'].astype(int)\n",
    "\n",
    "df_campaign_only.head()"
   ]
  },
  {
   "cell_type": "markdown",
   "metadata": {},
   "source": [
    "### 6. 캘린더 파일 생성"
   ]
  },
  {
   "cell_type": "code",
   "execution_count": null,
   "metadata": {},
   "outputs": [],
   "source": [
    "# 각 캠페인 그룹별로 시작일과 종료일 계산.\n",
    "df_campaign_schedule = df_campaign_only.groupby(['campaign_name', 'group_by_pages']).agg(\n",
    "    start_date=('Date', 'min'),\n",
    "    end_date=('Date', 'max')\n",
    ").reset_index()\n",
    "\n",
    "# 동일한 캠페인 이름에 여러 그룹이 있을 경우, (1/3), (2/3) 와 같이 표시하기 위해 그룹 수 계산.\n",
    "df_campaign_schedule['group_max'] = df_campaign_schedule.groupby('campaign_name')['group_by_pages'].transform('max')\n",
    "\n",
    "# 캘린더에 표시될 최종 캠페인 이름 생성.\n",
    "df_campaign_schedule['campaign'] = df_campaign_schedule.apply(\n",
    "    lambda x: f\"{x['campaign_name']} ({x['group_by_pages']}/{x['group_max']})\" if x['group_max'] > 1 else x['campaign_name'], axis=1\n",
    ")\n",
    "\n",
    "df_campaign_schedule = df_campaign_schedule[['campaign', 'start_date', 'end_date']]\n",
    "\n",
    "df_campaign_schedule.head()"
   ]
  },
  {
   "cell_type": "code",
   "execution_count": null,
   "metadata": {},
   "outputs": [],
   "source": [
    "# vobject 라이브러리를 사용하여 iCalendar(.ics) 파일 생성.\n",
    "cal = vobject.iCalendar()\n",
    "\n",
    "for index, row in df_campaign_schedule.iterrows():\n",
    "    event = cal.add('vevent')\n",
    "    event.add('summary').value = row['campaign']\n",
    "    event.add('dtstart').value = row['start_date'].date()\n",
    "    # dtend는 종료일 다음 날로 설정해야 해당일까지 포함.\n",
    "    event.add('dtend').value = row['end_date'].date() + datetime.timedelta(days=1)\n",
    "\n",
    "# 생성된 캘린더 객체를 'campaign_calander.ics' 파일로 저장.\n",
    "try:\n",
    "    with open('campaign_calander.ics', 'wb') as f:\n",
    "        f.write(cal.serialize().encode('utf-8'))\n",
    "    print(\"'campaign_calander.ics' 파일이 성공적으로 생성됨.\")\n",
    "except Exception as e:\n",
    "    print(f\"파일 저장 중 오류 발생: {e}\")"
   ]
  }
 ],
 "metadata": {
  "kernelspec": {
   "display_name": "Python 3 (ipykernel)",
   "language": "python",
   "name": "python3"
  },
  "language_info": {
   "codemirror_mode": {
    "name": "ipython",
    "version": 3
   },
   "file_extension": ".py",
   "mimetype": "text/x-python",
   "name": "python",
   "nbconvert_exporter": "python",
   "pygments_lexer": "ipython3",
   "version": "3.11.5"
  }
 },
 "nbformat": 4,
 "nbformat_minor": 2
}
