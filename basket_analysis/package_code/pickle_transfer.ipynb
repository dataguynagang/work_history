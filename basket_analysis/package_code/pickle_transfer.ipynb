{
 "cells": [
  {
   "cell_type": "code",
   "execution_count": 1,
   "metadata": {},
   "outputs": [],
   "source": [
    "import pandas as pd\n",
    "import xlwings as xw"
   ]
  },
  {
   "cell_type": "code",
   "execution_count": 10,
   "metadata": {},
   "outputs": [],
   "source": [
    "workbook = xw.Book('./8월 패키지 모음.xlsx')\n",
    "sheet1 = workbook.sheets[0].used_range.value\n",
    "df_package = pd.DataFrame(sheet1)\n",
    "#workbook.app.quit()"
   ]
  },
  {
   "cell_type": "code",
   "execution_count": 12,
   "metadata": {},
   "outputs": [],
   "source": [
    "df_package = df_package.iloc[:,:17]"
   ]
  },
  {
   "cell_type": "code",
   "execution_count": 15,
   "metadata": {},
   "outputs": [],
   "source": [
    "df_package.columns = df_package.iloc[0]"
   ]
  },
  {
   "cell_type": "code",
   "execution_count": 20,
   "metadata": {},
   "outputs": [],
   "source": [
    "df_package = df_package.iloc[1:]"
   ]
  },
  {
   "cell_type": "code",
   "execution_count": 21,
   "metadata": {},
   "outputs": [
    {
     "data": {
      "text/html": [
       "<div>\n",
       "<style scoped>\n",
       "    .dataframe tbody tr th:only-of-type {\n",
       "        vertical-align: middle;\n",
       "    }\n",
       "\n",
       "    .dataframe tbody tr th {\n",
       "        vertical-align: top;\n",
       "    }\n",
       "\n",
       "    .dataframe thead th {\n",
       "        text-align: right;\n",
       "    }\n",
       "</style>\n",
       "<table border=\"1\" class=\"dataframe\">\n",
       "  <thead>\n",
       "    <tr style=\"text-align: right;\">\n",
       "      <th></th>\n",
       "      <th>카테고리1</th>\n",
       "      <th>카테고리2</th>\n",
       "      <th>카테고리3</th>\n",
       "      <th>모델코드</th>\n",
       "      <th>구성품1</th>\n",
       "      <th>구성품2</th>\n",
       "      <th>구성품3</th>\n",
       "      <th>구성품4</th>\n",
       "      <th>구성품5</th>\n",
       "      <th>구성품6</th>\n",
       "      <th>구성품7</th>\n",
       "      <th>구성품8</th>\n",
       "      <th>구성품9</th>\n",
       "      <th>구성품10</th>\n",
       "      <th>구성품11</th>\n",
       "      <th>구성품12</th>\n",
       "      <th>구성품13</th>\n",
       "    </tr>\n",
       "  </thead>\n",
       "  <tbody>\n",
       "    <tr>\n",
       "      <th>1</th>\n",
       "      <td>TV</td>\n",
       "      <td>TVs</td>\n",
       "      <td>UHD</td>\n",
       "      <td>KU75UA7000W34</td>\n",
       "      <td>KU75UA7000FXKR</td>\n",
       "      <td>HW-C450/KR</td>\n",
       "      <td>WMN-B16FB/KR</td>\n",
       "      <td>None</td>\n",
       "      <td>None</td>\n",
       "      <td>None</td>\n",
       "      <td>None</td>\n",
       "      <td>None</td>\n",
       "      <td>None</td>\n",
       "      <td>None</td>\n",
       "      <td>None</td>\n",
       "      <td>None</td>\n",
       "      <td>None</td>\n",
       "    </tr>\n",
       "    <tr>\n",
       "      <th>2</th>\n",
       "      <td>TV</td>\n",
       "      <td>Lifestyle TV</td>\n",
       "      <td>The Frame</td>\n",
       "      <td>KQ75LSB03-WBM</td>\n",
       "      <td>KQ75LSB03AFXKR</td>\n",
       "      <td>VG-SCFA75WTBKR</td>\n",
       "      <td>VG-MSFA75WTBKR</td>\n",
       "      <td>None</td>\n",
       "      <td>None</td>\n",
       "      <td>None</td>\n",
       "      <td>None</td>\n",
       "      <td>None</td>\n",
       "      <td>None</td>\n",
       "      <td>None</td>\n",
       "      <td>None</td>\n",
       "      <td>None</td>\n",
       "      <td>None</td>\n",
       "    </tr>\n",
       "    <tr>\n",
       "      <th>3</th>\n",
       "      <td>TV</td>\n",
       "      <td>Lifestyle TV</td>\n",
       "      <td>The Frame</td>\n",
       "      <td>KQ65LSB03-WBM</td>\n",
       "      <td>KQ65LSB03AFXKR</td>\n",
       "      <td>VG-SCFA65WTBKR</td>\n",
       "      <td>VG-MSFA65BGAKR</td>\n",
       "      <td>None</td>\n",
       "      <td>None</td>\n",
       "      <td>None</td>\n",
       "      <td>None</td>\n",
       "      <td>None</td>\n",
       "      <td>None</td>\n",
       "      <td>None</td>\n",
       "      <td>None</td>\n",
       "      <td>None</td>\n",
       "      <td>None</td>\n",
       "    </tr>\n",
       "    <tr>\n",
       "      <th>4</th>\n",
       "      <td>TV</td>\n",
       "      <td>Lifestyle TV</td>\n",
       "      <td>The Frame</td>\n",
       "      <td>KQ55LSB03-WBM</td>\n",
       "      <td>KQ55LSB03AFXKR</td>\n",
       "      <td>VG-SCFA55WTBKR</td>\n",
       "      <td>VG-MSFA55BGAKR</td>\n",
       "      <td>None</td>\n",
       "      <td>None</td>\n",
       "      <td>None</td>\n",
       "      <td>None</td>\n",
       "      <td>None</td>\n",
       "      <td>None</td>\n",
       "      <td>None</td>\n",
       "      <td>None</td>\n",
       "      <td>None</td>\n",
       "      <td>None</td>\n",
       "    </tr>\n",
       "    <tr>\n",
       "      <th>5</th>\n",
       "      <td>TV</td>\n",
       "      <td>TVs</td>\n",
       "      <td>Crystal UHD</td>\n",
       "      <td>KU85UC7070-W2</td>\n",
       "      <td>KU85UC7070FXKR</td>\n",
       "      <td>WMN-B30FB/KR</td>\n",
       "      <td>None</td>\n",
       "      <td>None</td>\n",
       "      <td>None</td>\n",
       "      <td>None</td>\n",
       "      <td>None</td>\n",
       "      <td>None</td>\n",
       "      <td>None</td>\n",
       "      <td>None</td>\n",
       "      <td>None</td>\n",
       "      <td>None</td>\n",
       "      <td>None</td>\n",
       "    </tr>\n",
       "  </tbody>\n",
       "</table>\n",
       "</div>"
      ],
      "text/plain": [
       "0 카테고리1         카테고리2        카테고리3           모델코드            구성품1  \\\n",
       "1    TV           TVs          UHD  KU75UA7000W34  KU75UA7000FXKR   \n",
       "2    TV  Lifestyle TV    The Frame  KQ75LSB03-WBM  KQ75LSB03AFXKR   \n",
       "3    TV  Lifestyle TV    The Frame  KQ65LSB03-WBM  KQ65LSB03AFXKR   \n",
       "4    TV  Lifestyle TV    The Frame  KQ55LSB03-WBM  KQ55LSB03AFXKR   \n",
       "5    TV           TVs  Crystal UHD  KU85UC7070-W2  KU85UC7070FXKR   \n",
       "\n",
       "0            구성품2            구성품3  구성품4  구성품5  구성품6  구성품7  구성품8  구성품9 구성품10  \\\n",
       "1      HW-C450/KR    WMN-B16FB/KR  None  None  None  None  None  None  None   \n",
       "2  VG-SCFA75WTBKR  VG-MSFA75WTBKR  None  None  None  None  None  None  None   \n",
       "3  VG-SCFA65WTBKR  VG-MSFA65BGAKR  None  None  None  None  None  None  None   \n",
       "4  VG-SCFA55WTBKR  VG-MSFA55BGAKR  None  None  None  None  None  None  None   \n",
       "5    WMN-B30FB/KR            None  None  None  None  None  None  None  None   \n",
       "\n",
       "0 구성품11 구성품12 구성품13  \n",
       "1  None  None  None  \n",
       "2  None  None  None  \n",
       "3  None  None  None  \n",
       "4  None  None  None  \n",
       "5  None  None  None  "
      ]
     },
     "execution_count": 21,
     "metadata": {},
     "output_type": "execute_result"
    }
   ],
   "source": [
    "df_package.head()"
   ]
  },
  {
   "cell_type": "code",
   "execution_count": 31,
   "metadata": {},
   "outputs": [],
   "source": [
    "df_stacked_code = pd.DataFrame(df_package.iloc[:,4:].stack())"
   ]
  },
  {
   "cell_type": "code",
   "execution_count": null,
   "metadata": {},
   "outputs": [],
   "source": [
    "pd.merge()"
   ]
  }
 ],
 "metadata": {
  "kernelspec": {
   "display_name": "Python 3",
   "language": "python",
   "name": "python3"
  },
  "language_info": {
   "codemirror_mode": {
    "name": "ipython",
    "version": 3
   },
   "file_extension": ".py",
   "mimetype": "text/x-python",
   "name": "python",
   "nbconvert_exporter": "python",
   "pygments_lexer": "ipython3",
   "version": "3.11.5"
  },
  "orig_nbformat": 4
 },
 "nbformat": 4,
 "nbformat_minor": 2
}
