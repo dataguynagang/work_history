{
 "cells": [
  {
   "cell_type": "code",
   "execution_count": null,
   "metadata": {},
   "outputs": [],
   "source": [
    "# 필요한 라이브러리 로드\n",
    "# pandas: 데이터 조작 및 분석용\n",
    "# os: 파일 시스템 경로 작업용\n",
    "# xlwings: Excel 파일 제어용\n",
    "import os\n",
    "import pandas as pd\n",
    "import xlwings as xw"
   ]
  },
  {
   "cell_type": "code",
   "execution_count": null,
   "metadata": {},
   "outputs": [],
   "source": [
    "# 'adobe_raw' 디렉토리에서 처리할 원본 파일 탐색\n",
    "# 'New_Weekly_전체_기획전_Ken'으로 시작하는 파일 사용\n",
    "for filename in os.listdir('./adobe_raw/'):\n",
    "    if filename.startswith('New_Weekly_전체_기획전_Ken'):\n",
    "        whole_campaign_file = './adobe_raw/' + filename\n",
    "        break"
   ]
  },
  {
   "cell_type": "code",
   "execution_count": null,
   "metadata": {},
   "outputs": [],
   "source": [
    "# xlwings로 Excel 파일을 열고 데이터 읽기\n",
    "# DRM 보호 CSV 파일을 읽기 위해 Excel 앱을 직접 제어하는 xlwings 사용\n",
    "# try...finally 구문으로 Excel 앱의 확실한 종료 보장\n",
    "workbook = None\n",
    "try:\n",
    "    workbook = xw.Book(whole_campaign_file)\n",
    "    sheet1 = workbook.sheets[0].used_range.value\n",
    "    df_whole_campaign = pd.DataFrame(sheet1)\n",
    "finally:\n",
    "    if workbook:\n",
    "        workbook.app.quit()"
   ]
  },
  {
   "cell_type": "code",
   "execution_count": null,
   "metadata": {},
   "outputs": [],
   "source": [
    "# 컬럼명 변경\n",
    "column_name = ['WeekNumber',\n",
    " 'UniqueVisitors',\n",
    " 'Visits',\n",
    " 'PageViews',\n",
    " 'TimeSpentPerVisit',\n",
    " 'OrderAfterVisit',\n",
    " 'RevenueAfterVisit',\n",
    " 'OrderAfterCTA',\n",
    " 'RevenueAfterCTA']\n",
    "\n",
    "df_whole_campaign.columns = column_name"
   ]
  },
  {
   "cell_type": "code",
   "execution_count": null,
   "metadata": {},
   "outputs": [],
   "source": [
    "# 리포트 헤더 부분(상위 8행) 제외\n",
    "df_whole_campaign = df_whole_campaign.iloc[8:]"
   ]
  },
  {
   "cell_type": "code",
   "execution_count": null,
   "metadata": {},
   "outputs": [],
   "source": [
    "# '##############################################' 행 삭제\n",
    "# boolean indexing 사용이 drop보다 효율적\n",
    "df_whole_campaign = df_whole_campaign[df_whole_campaign['WeekNumber'] != '##############################################']"
   ]
  },
  {
   "cell_type": "code",
   "execution_count": null,
   "metadata": {},
   "outputs": [],
   "source": [
    "# 'CampaignName' 컬럼 생성\n",
    "df_whole_campaign['CampaignName'] = df_whole_campaign['WeekNumber']"
   ]
  },
  {
   "cell_type": "code",
   "execution_count": null,
   "metadata": {},
   "outputs": [],
   "source": [
    "# 'CampaignName' 컬럼 정제: 'Week' 포함 행에서 날짜 부분 제거\n",
    "# 예: 'Week 45 (2024-11-04 ~ 2024-11-10)' -> 'Week 45'\n",
    "# 반복문 대신 .loc와 .str.contains/.str.split으로 성능 개선 및 경고 해결\n",
    "week_rows_mask = df_whole_campaign['CampaignName'].str.contains('Week', na=False)\n",
    "df_whole_campaign.loc[week_rows_mask, 'CampaignName'] = df_whole_campaign.loc[week_rows_mask, 'CampaignName'].str.split(' (', expand=True)[0]"
   ]
  },
  {
   "cell_type": "code",
   "execution_count": null,
   "metadata": {},
   "outputs": [],
   "source": [
    "# 데이터 타입 변경\n",
    "# 숫자 형태 컬럼으로 변환\n",
    "# pd.to_numeric(errors='coerce')와 .fillna(0)으로 데이터 변환 오류 방지\n",
    "numeric_cols = [\n",
    "    'UniqueVisitors', 'Visits', 'PageViews', 'TimeSpentPerVisit',\n",
    "    'OrderAfterVisit', 'RevenueAfterVisit', 'OrderAfterCTA', 'RevenueAfterCTA'\n",
    "]\n",
    "for col in numeric_cols:\n",
    "    df_whole_campaign[col] = pd.to_numeric(df_whole_campaign[col], errors='coerce').fillna(0)\n",
    "\n",
    "# 최종 정수형(integer) 타입 변경\n",
    "int_cols = [\n",
    "    'UniqueVisitors', 'Visits', 'PageViews', 'OrderAfterVisit',\n",
    "    'RevenueAfterVisit', 'OrderAfterCTA', 'RevenueAfterCTA'\n",
    "]\n",
    "df_whole_campaign[int_cols] = df_whole_campaign[int_cols].astype(int)"
   ]
  },
  {
   "cell_type": "code",
   "execution_count": null,
   "metadata": {},
   "outputs": [],
   "source": [
    "# csv 파일로 저장\n",
    "# 불필요한 인덱스 컬럼 제외 (index=False)\n",
    "# Excel에서 한글 깨짐 방지 (encoding='utf-8-sig')\n",
    "df_whole_campaign.to_csv('./csv_raw/whole_campaign.csv', index=False, encoding='utf-8-sig')"
   ]
  }
 ],
 "metadata": {
  "kernelspec": {
   "display_name": "Python 3",
   "language": "python",
   "name": "python3"
  },
  "language_info": {
   "codemirror_mode": {
    "name": "ipython",
    "version": 3
   },
   "file_extension": ".py",
   "mimetype": "text/x-python",
   "name": "python",
   "nbconvert_exporter": "python",
   "pygments_lexer": "ipython3",
   "version": "3.9.13"
  },
  "orig_nbformat": 4
 },
 "nbformat": 4,
 "nbformat_minor": 2
}