{
 "cells": [
  {
   "cell_type": "code",
   "execution_count": null,
   "metadata": {},
   "outputs": [],
   "source": [
    "# 필요한 라이브러리 로드\n",
    "import os\n",
    "import pandas as pd\n",
    "import xlwings as xw"
   ]
  },
  {
   "cell_type": "code",
   "execution_count": null,
   "metadata": {},
   "outputs": [],
   "source": [
    "# 'adobe_raw' 디렉토리에서 처리할 원본 파일 탐색\n",
    "# 'New_Weekly_캠페인_방문_후_구매_Ken'으로 시작하는 파일 사용\n",
    "for filename in os.listdir('./adobe_raw/'):\n",
    "    if filename.startswith('New_Weekly_캠페인_방문_후_구매_Ken'):\n",
    "        campaign_file = './adobe_raw/' + filename\n",
    "        break"
   ]
  },
  {
   "cell_type": "code",
   "execution_count": null,
   "metadata": {},
   "outputs": [],
   "source": [
    "# xlwings로 Excel 파일을 열고 데이터 읽기\n",
    "# DRM 보호 CSV 파일을 읽기 위해 Excel 앱을 직접 제어하는 xlwings 사용\n",
    "# try...finally 구문으로 Excel 앱의 확실한 종료 보장\n",
    "workbook = None\n",
    "try:\n",
    "    workbook = xw.Book(campaign_file)\n",
    "    sheet1 = workbook.sheets[0].used_range.value\n",
    "    df_campaign = pd.DataFrame(sheet1)\n",
    "finally:\n",
    "    if workbook:\n",
    "        workbook.app.quit()"
   ]
  },
  {
   "cell_type": "code",
   "execution_count": null,
   "metadata": {},
   "outputs": [],
   "source": [
    "# 데이터프레임 초기 정제\n",
    "df_campaign.columns = ['CampaignName', 'LastTouchChannel', 'Order', 'Revenue']\n",
    "# 헤더 부분 제외 및 인덱스 재설정. .copy()로 SettingWithCopyWarning 방지\n",
    "df_campaign = df_campaign.iloc[8:].reset_index(drop=True).copy()"
   ]
  },
  {
   "cell_type": "code",
   "execution_count": null,
   "metadata": {},
   "outputs": [],
   "source": [
    "# 리포트 내 불필요한 데이터 블록 삭제\n",
    "# '###' 구분선 사이의 짝수 번째 블록(캠페인 별 소계 등)을 삭제하는 로직\n",
    "sharp_indices = df_campaign[df_campaign['CampaignName'] == '##############################################'].index\n",
    "\n",
    "# sharp_indices를 2개씩 짝지어 그 사이의 범위(range)를 삭제\n",
    "for i in range(0, len(sharp_indices), 2):\n",
    "    start_index = sharp_indices[i]\n",
    "    end_index = sharp_indices[i+1] + 1\n",
    "    df_campaign.drop(labels=range(start_index, end_index), inplace=True)"
   ]
  },
  {
   "cell_type": "code",
   "execution_count": null,
   "metadata": {},
   "outputs": [],
   "source": [
    "# 최종 데이터 필터링\n",
    "# 결측치 및 컬럼명으로 잘못 인식된 행들 제거\n",
    "df_campaign = df_campaign[\n",
    "    df_campaign['LastTouchChannel'].notna() &\n",
    "    (~df_campaign['LastTouchChannel'].isin(['Last Touch Channel', 'Marketing Channel']))\n",
    "].copy()"
   ]
  },
  {
   "cell_type": "code",
   "execution_count": null,
   "metadata": {},
   "outputs": [],
   "source": [
    "# 데이터 타입 변경\n",
    "# 오류 방지를 위해 pd.to_numeric 사용\n",
    "df_campaign['Order'] = pd.to_numeric(df_campaign['Order'], errors='coerce').fillna(0).astype(int)\n",
    "df_campaign['Revenue'] = pd.to_numeric(df_campaign['Revenue'], errors='coerce').fillna(0).astype(int)"
   ]
  },
  {
   "cell_type": "code",
   "execution_count": null,
   "metadata": {},
   "outputs": [],
   "source": [
    "# CampaignName 컬럼 값 정제\n",
    "# 불필요한 문자열 제거\n",
    "df_campaign['CampaignName'] = df_campaign['CampaignName'].str.replace(\"방문 후 구매\",\"\").str.replace(\"(dy)\",\"\").str.replace(\"(Ken)\",\"\").str.strip()"
   ]
  },
    {
   "cell_type": "code",
   "execution_count": null,
   "metadata": {},
   "outputs": [],
   "source": [
    "# 중복 데이터 확인 (분석용)\n",
    "df_campaign[df_campaign.duplicated(['CampaignName', 'LastTouchChannel'])]"
   ]
  },
  {
   "cell_type": "code",
   "execution_count": null,
   "metadata": {},
   "outputs": [],
   "source": [
    "# CSV 파일로 저장\n",
    "df_campaign.to_csv('./csv_raw/campaign_visit_then_order.csv', index=False, encoding='utf-8-sig')"
   ]
  }
 ],
 "metadata": {
  "kernelspec": {
   "display_name": "Python 3",
   "language": "python",
   "name": "python3"
  },
  "language_info": {
   "codemirror_mode": {
    "name": "ipython",
    "version": 3
   },
   "file_extension": ".py",
   "mimetype": "text/x-python",
   "name": "python",
   "nbconvert_exporter": "python",
   "pygments_lexer": "ipython3",
   "version": "3.9.13"
  },
  "orig_nbformat": 4
 },
 "nbformat": 4,
 "nbformat_minor": 2
}