{
 "cells": [
  {
   "cell_type": "code",
   "execution_count": null,
   "metadata": {},
   "outputs": [],
   "source": [
    "# 필요한 라이브러리 로드\n",
    "import os\n",
    "import pandas as pd\n",
    "import xlwings as xw"
   ]
  },
  {
   "cell_type": "code",
   "execution_count": null,
   "metadata": {},
   "outputs": [],
   "source": [
    "# 'adobe_raw' 디렉토리에서 처리할 원본 파일 탐색\n",
    "# 'New_Weekly_트래픽_Ken'으로 시작하는 파일 사용\n",
    "for filename in os.listdir('./adobe_raw/'):\n",
    "    if filename.startswith('New_Weekly_트래픽_Ken'):\n",
    "        traffic_file = './adobe_raw/' + filename\n",
    "        break"
   ]
  },
  {
   "cell_type": "code",
   "execution_count": null,
   "metadata": {},
   "outputs": [],
   "source": [
    "# xlwings로 Excel 파일을 열고 데이터 읽기\n",
    "# DRM 보호 CSV 파일을 읽기 위해 Excel 앱을 직접 제어하는 xlwings 사용\n",
    "# try...finally 구문으로 Excel 앱의 확실한 종료 보장\n",
    "workbook = None\n",
    "try:\n",
    "    workbook = xw.Book(traffic_file)\n",
    "    sheet1 = workbook.sheets[0].used_range.value\n",
    "    df_traffic = pd.DataFrame(sheet1)\n",
    "finally:\n",
    "    if workbook:\n",
    "        workbook.app.quit()"
   ]
  },
  {
   "cell_type": "code",
   "execution_count": null,
   "metadata": {},
   "outputs": [],
   "source": [
    "# 원본 데이터 정제\n",
    "# 보고서의 헤더, 구분선, 불필요한 행들을 순차적으로 제거\n",
    "df_cleaned = df_traffic.iloc[9:]\n",
    "df_cleaned = df_cleaned[df_cleaned[0] != '##############################################']\n",
    "df_cleaned = df_cleaned.dropna(subset=[0])\n",
    "df_cleaned = df_cleaned[~df_cleaned[0].isin(['Week', 'Day'])]\n",
    "df_cleaned = df_cleaned.reset_index(drop=True).copy()"
   ]
  },
  {
   "cell_type": "code",
   "execution_count": null,
   "metadata": {},
   "outputs": [],
   "source": [
    "# 데이터 테이블별 인덱스 식별\n",
    "title_index = df_cleaned[df_cleaned[0].str.startswith('#', na=False)].index\n",
    "begin_index = title_index + 1\n",
    "end_index = title_index[1:] - 1\n",
    "end_index = end_index.append(pd.Index([len(df_cleaned)]))"
   ]
  },
  {
   "cell_type": "code",
   "execution_count": null,
   "metadata": {},
   "outputs": [],
   "source": [
    "# 딕셔너리를 사용하여 데이터프레임 관리\n",
    "dataframes = {}\n",
    "title_list = []\n",
    "\n",
    "for i_title, i_begin, i_end in zip(title_index, begin_index, end_index):\n",
    "    df_title_raw = df_cleaned[0][i_title]\n",
    "    df_title = \"df_\" + df_title_raw.replace('# ', '').replace(' ','_').replace('전체', 'whole').replace('캠페인', 'campaign').lower()\n",
    "    title_list.append(df_title)\n",
    "    dataframes[df_title] = df_cleaned.iloc[i_begin:i_end + 1].copy()\n",
    "\n",
    "print(\"생성된 데이터프레임 목록:\", title_list)"
   ]
  },
  {
   "cell_type": "code",
   "execution_count": null,
   "metadata": {},
   "outputs": [],
   "source": [
    "# Weekly/Daily 데이터프레임 컬럼 설정\n",
    "weekly_col_list = [('WeekNumber', ''), ('Visits', 'All'), ('Visits', 'Mobile'), ('Visits', 'PC'), ('UniqueVisitors', 'All'), ('UniqueVisitors', 'Mobile'), ('UniqueVisitors', 'PC'), ('PageViews', 'All'), ('PageViews', 'Mobile'), ('PageViews', 'PC'), ('TimeSpentperVisit', 'All'), ('TimeSpentperVisit', 'Mobile'), ('TimeSpentperVisit', 'PC'), ('Order', 'All'), ('Order', 'Mobile'), ('Order', 'PC'), ('Revenue', 'All'), ('Revenue', 'Mobile'), ('Revenue', 'PC')]\n",
    "weekly_col = pd.MultiIndex.from_tuples(weekly_col_list)\n",
    "\n",
    "daily_col_list = [('Date', ''), ('Visits', 'All'), ('Visits', 'Mobile'), ('Visits', 'PC'), ('UniqueVisitors', 'All'), ('UniqueVisitors', 'Mobile'), ('UniqueVisitors', 'PC'), ('PageViews', 'All'), ('PageViews', 'Mobile'), ('PageViews', 'PC'), ('TimeSpentperVisit', 'All'), ('TimeSpentperVisit', 'Mobile'), ('TimeSpentperVisit', 'PC'), ('Order', 'All'), ('Order', 'Mobile'), ('Order', 'PC'), ('Revenue', 'All'), ('Revenue', 'Mobile'), ('Revenue', 'PC')]\n",
    "daily_col = pd.MultiIndex.from_tuples(daily_col_list)\n",
    "\n",
    "dataframes['df_whole_weekly'].columns = weekly_col\n",
    "dataframes['df_campaign_weekly'].columns = weekly_col\n",
    "dataframes['df_whole_daily'].columns = daily_col\n",
    "dataframes['df_campaign_daily'].columns = daily_col"
   ]
  },
  {
   "cell_type": "code",
   "execution_count": null,
   "metadata": {},
   "outputs": [],
   "source": [
    "# 'PageType' 컬럼 추가\n",
    "dataframes['df_whole_weekly']['PageType'] = 'All'\n",
    "dataframes['df_campaign_weekly']['PageType'] = 'Campaign'\n",
    "dataframes['df_whole_daily']['PageType'] = 'All'\n",
    "dataframes['df_campaign_daily']['PageType'] = 'Campaign'"
   ]
  },
  {
   "cell_type": "code",
   "execution_count": null,
   "metadata": {},
   "outputs": [],
   "source": [
    "# Weekly, Daily 데이터 병합\n",
    "df_campaign_weekly = pd.concat([dataframes['df_whole_weekly'], dataframes['df_campaign_weekly']])\n",
    "df_campaign_daily = pd.concat([dataframes['df_whole_daily'], dataframes['df_campaign_daily']])"
   ]
  },
  {
   "cell_type": "code",
   "execution_count": null,
   "metadata": {},
   "outputs": [],
   "source": [
    "# Weekly 데이터 Melt (Wide -> Long format)\n",
    "df_campaign_weekly_melt = pd.melt(\n",
    "    df_campaign_weekly, \n",
    "    id_vars=[('WeekNumber', ''), ('PageType', '')],\n",
    "    value_vars=weekly_col_list[1:], # WeekNumber 제외\n",
    "    var_name=['Dimensions', 'Device'],\n",
    "    value_name='Metrics'\n",
    ")\n",
    "df_campaign_weekly_melt.rename(columns={'WeekNumber': 'Date'}, inplace=True)"
   ]
  },
    {
   "cell_type": "code",
   "execution_count": null,
   "metadata": {},
   "outputs": [],
   "source": [
    "# Weekly 데이터 날짜 처리 (ISO Week 기준)\n",
    "df_campaign_weekly_melt['Date'] = pd.to_datetime(df_campaign_weekly_melt['Date'])\n",
    "df_campaign_weekly_melt['ISOYear'] = df_campaign_weekly_melt['Date'].dt.isocalendar().year.astype('str')\n",
    "df_campaign_weekly_melt['ISOWeek'] = df_campaign_weekly_melt['Date'].dt.isocalendar().week.astype('str')\n",
    "df_campaign_weekly_melt['WeekNumber'] = df_campaign_weekly_melt['ISOYear'] + \"-\" + df_campaign_weekly_melt['ISOWeek']\n",
    "\n",
    "# 불필요한 컬럼 제거 및 순서 정리\n",
    "df_campaign_weekly_melt = df_campaign_weekly_melt.drop(columns=['Date', 'ISOYear', 'ISOWeek'])\n",
    "df_campaign_weekly_melt = df_campaign_weekly_melt[['WeekNumber', 'PageType', 'Dimensions', 'Device', 'Metrics']]"
   ]
  },
  {
   "cell_type": "code",
   "execution_count": null,
   "metadata": {},
   "outputs": [],
   "source": [
    "# Daily 데이터 Melt (Wide -> Long format)\n",
    "df_campaign_daily_melt = pd.melt(\n",
    "    df_campaign_daily, \n",
    "    id_vars=[('Date', ''), ('PageType', '')],\n",
    "    value_vars=daily_col_list[1:], # Date 제외\n",
    "    var_name=['Dimensions', 'Device'],\n",
    "    value_name='Metrics'\n",
    ")\n",
    "df_campaign_daily_melt.columns = ['Date', 'PageType', 'Dimensions', 'Device', 'Metrics']"
   ]
  },
  {
   "cell_type": "code",
   "execution_count": null,
   "metadata": {},
   "outputs": [],
   "source": [
    "# 데이터 정렬\n",
    "df_campaign_weekly_melt = df_campaign_weekly_melt.sort_values(by=['WeekNumber', 'PageType', 'Dimensions', 'Device'])\n",
    "df_campaign_daily_melt = df_campaign_daily_melt.sort_values(by=['Date', 'PageType', 'Dimensions', 'Device'])"
   ]
  },
  {
   "cell_type": "code",
   "execution_count": null,
   "metadata": {},
   "outputs": [],
   "source": [
    "# CSV 파일로 저장\n",
    "df_campaign_weekly_melt.to_csv('./csv_raw/campaign_weekly.csv', index=False, encoding='utf-8-sig')\n",
    "df_campaign_daily_melt.to_csv('./csv_raw/campaign_daily.csv', index=False, encoding='utf-8-sig')"
   ]
  }
 ],
 "metadata": {
  "kernelspec": {
   "display_name": "Python 3",
   "language": "python",
   "name": "python3"
  },
  "language_info": {
   "codemirror_mode": {
    "name": "ipython",
    "version": 3
   },
   "file_extension": ".py",
   "mimetype": "text/x-python",
   "name": "python",
   "nbconvert_exporter": "python",
   "pygments_lexer": "ipython3",
   "version": "3.9.13"
  },
  "orig_nbformat": 4
 },
 "nbformat": 4,
 "nbformat_minor": 2
}