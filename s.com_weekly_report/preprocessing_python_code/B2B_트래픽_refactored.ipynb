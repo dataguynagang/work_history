{
 "cells": [
  {
   "cell_type": "code",
   "execution_count": null,
   "metadata": {},
   "outputs": [],
   "source": [
    "# 필요한 라이브러리 로드\n",
    "import os\n",
    "import pandas as pd\n",
    "import xlwings as xw"
   ]
  },
  {
   "cell_type": "code",
   "execution_count": null,
   "metadata": {},
   "outputs": [],
   "source": [
    "# 'adobe_raw' 디렉토리에서 처리할 원본 파일 탐색\n",
    "# 'New_Weekly_B2B_트래픽_Ken'으로 시작하는 파일 사용\n",
    "for filename in os.listdir('./adobe_raw/'):\n",
    "    if filename.startswith('New_Weekly_B2B_트래픽_Ken'):\n",
    "        b2b_traffic_file = './adobe_raw/' + filename\n",
    "        break"
   ]
  },
  {
   "cell_type": "code",
   "execution_count": null,
   "metadata": {},
   "outputs": [],
   "source": [
    "# xlwings로 Excel 파일을 열고 데이터 읽기\n",
    "# DRM 보호 CSV 파일을 읽기 위해 Excel 앱을 직접 제어하는 xlwings 사용\n",
    "# try...finally 구문으로 Excel 앱의 확실한 종료 보장\n",
    "workbook = None\n",
    "try:\n",
    "    workbook = xw.Book(b2b_traffic_file)\n",
    "    sheet1 = workbook.sheets[0].used_range.value\n",
    "    df_b2b_traffic = pd.DataFrame(sheet1)\n",
    "finally:\n",
    "    if workbook:\n",
    "        workbook.app.quit()"
   ]
  },
  {
   "cell_type": "code",
   "execution_count": null,
   "metadata": {},
   "outputs": [],
   "source": [
    "# 데이터 정제 및 컬럼 설정\n",
    "# 'Week' 문자열이 있는 행을 찾아 그 다음 행부터 데이터로 사용\n",
    "try:\n",
    "    begin_index = df_b2b_traffic[df_b2b_traffic[0] == 'Week'].index[0] + 1\n",
    "    df_b2b = df_b2b_traffic.iloc[begin_index:].reset_index(drop=True).copy()\n",
    "    df_b2b.columns = ['Date', 'Visit']\n",
    "except IndexError:\n",
    "    print(\"'Week'를 포함하는 행을 찾을 수 없어 처리를 중단합니다.\")\n",
    "    df_b2b = pd.DataFrame() # 빈 데이터프레임 생성"
   ]
  },
  {
   "cell_type": "code",
   "execution_count": null,
   "metadata": {},
   "outputs": [],
   "source": [
    "# 데이터 타입 변환\n",
    "if not df_b2b.empty:\n",
    "    df_b2b['Date'] = pd.to_datetime(df_b2b['Date'])\n",
    "    df_b2b['Visit'] = pd.to_numeric(df_b2b['Visit'], errors='coerce').fillna(0).astype(int)"
   ]
  },
  {
   "cell_type": "code",
   "execution_count": null,
   "metadata": {},
   "outputs": [],
   "source": [
    "# WeekNumber 생성 (ISO 주차 기준)\n",
    "if not df_b2b.empty:\n",
    "    df_b2b['ISOYear'] = df_b2b['Date'].dt.isocalendar().year.astype('str')\n",
    "    df_b2b['ISOWeek'] = df_b2b['Date'].dt.isocalendar().week.astype('str')\n",
    "    df_b2b['WeekNumber'] = df_b2b['ISOYear'] + '-' + df_b2b['ISOWeek']\n",
    "    \n",
    "    # 최종 컬럼 선택 및 정리\n",
    "    df_b2b = df_b2b[['WeekNumber', 'Visit']]"
   ]
  },
  {
   "cell_type": "code",
   "execution_count": null,
   "metadata": {},
   "outputs": [],
   "source": [
    "# CSV 파일로 저장\n",
    "if not df_b2b.empty:\n",
    "    df_b2b.to_csv('./csv_raw/b2b.csv', index=False, encoding='utf-8-sig')\n",
    "    print(\"b2b.csv 저장 완료\")"
   ]
  }
 ],
 "metadata": {
  "kernelspec": {
   "display_name": "Python 3",
   "language": "python",
   "name": "python3"
  },
  "language_info": {
   "codemirror_mode": {
    "name": "ipython",
    "version": 3
   },
   "file_extension": ".py",
   "mimetype": "text/x-python",
   "name": "python",
   "nbconvert_exporter": "python",
   "pygments_lexer": "ipython3",
   "version": "3.9.13"
  },
  "orig_nbformat": 4
 },
 "nbformat": 4,
 "nbformat_minor": 2
}