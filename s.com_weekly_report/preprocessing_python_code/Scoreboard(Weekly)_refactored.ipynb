{
 "cells": [
  {
   "cell_type": "markdown",
   "metadata": {},
   "source": [
    "### 엑셀 파일 전체 전처리"
   ]
  },
  {
   "cell_type": "code",
   "execution_count": null,
   "metadata": {},
   "outputs": [],
   "source": [
    "# 필요한 라이브러리 로드\n",
    "import os\n",
    "import pandas as pd\n",
    "import xlwings as xw\n",
    "import datetime"
   ]
  },
  {
   "cell_type": "code",
   "execution_count": null,
   "metadata": {},
   "outputs": [],
   "source": [
    "# 'adobe_raw' 디렉토리에서 처리할 원본 파일 탐색\n",
    "# 'New_Weekly_Scoreboard(Weekly)_Ken'으로 시작하는 파일 사용\n",
    "for filename in os.listdir('./adobe_raw/'):\n",
    "    if filename.startswith('New_Weekly_Scoreboard(Weekly)_Ken'):\n",
    "        scoreboard_weekly_file = './adobe_raw/' + filename\n",
    "        break"
   ]
  },
  {
   "cell_type": "code",
   "execution_count": null,
   "metadata": {},
   "outputs": [],
   "source": [
    "# xlwings로 Excel 파일을 열고 데이터 읽기\n",
    "# DRM 보호 CSV 파일을 읽기 위해 Excel 앱을 직접 제어하는 xlwings 사용\n",
    "# try...finally 구문으로 Excel 앱의 확실한 종료 보장\n",
    "workbook = None\n",
    "try:\n",
    "    workbook = xw.Book(scoreboard_weekly_file)\n",
    "    sheet1 = workbook.sheets[0].used_range.value\n",
    "    df_scoreboard_weekly = pd.DataFrame(sheet1)\n",
    "finally:\n",
    "    if workbook:\n",
    "        workbook.app.quit()"
   ]
  },
  {
   "cell_type": "code",
   "execution_count": null,
   "metadata": {},
   "outputs": [],
   "source": [
    "# 원본 데이터 정제\n",
    "# 보고서의 헤더, 구분선, 불필요한 행들을 순차적으로 제거\n",
    "df_cleaned = df_scoreboard_weekly.iloc[9:]\n",
    "df_cleaned = df_cleaned[df_cleaned[0] != '##############################################']\n",
    "df_cleaned = df_cleaned.dropna(subset=[0])\n",
    "useless_rows = ['Model Category_2depth', 'Segments', 'All Page Track (p6)']\n",
    "df_cleaned = df_cleaned[~df_cleaned[0].isin(useless_rows)]\n",
    "df_cleaned = df_cleaned.reset_index(drop=True).copy()"
   ]
  },
  {
   "cell_type": "markdown",
   "metadata": {},
   "source": [
    "### DataFrame 분리"
   ]
  },
  {
   "cell_type": "code",
   "execution_count": null,
   "metadata": {},
   "outputs": [],
   "source": [
    "# 데이터 테이블별 인덱스 식별\n",
    "title_index = df_cleaned[df_cleaned[0].str.startswith('#', na=False)].index\n",
    "begin_index = title_index + 1\n",
    "end_index = title_index[1:].append(pd.Index([len(df_cleaned)])) - 1"
   ]
  },
  {
   "cell_type": "code",
   "execution_count": null,
   "metadata": {},
   "outputs": [],
   "source": [
    "# 딕셔너리를 사용하여 데이터프레임 관리\n",
    "dataframes = {}\n",
    "for i_title, i_begin, i_end in zip(title_index, begin_index, end_index):\n",
    "    df_title_raw = df_cleaned.iloc[i_title][0]\n",
    "    df_title = df_title_raw.replace('# ', '')\n",
    "    dataframes[df_title] = df_cleaned.iloc[i_begin:i_end + 1].copy()\n",
    "\n",
    "print(\"생성된 데이터프레임 목록:\", list(dataframes.keys()))"
   ]
  },
  {
   "cell_type": "markdown",
   "metadata": {},
   "source": [
    "#### 각 데이터프레임 정제 및 처리"
   ]
  },
  {
   "cell_type": "code",
   "execution_count": null,
   "metadata": {},
   "outputs": [],
   "source": [
    "# weekly_visits_by_model_category 처리\n",
    "df = dataframes['weekly_visits_by_model_category']\n",
    "df = df[~df[1].isin(['Week', pd.NaT, None])]\n",
    "df.columns = ['Model Category_2depth', 'WeekNumber', 'Visits']\n",
    "df['WeekNumber'] = pd.to_datetime(df['WeekNumber'])\n",
    "df['Visits'] = pd.to_numeric(df['Visits'], errors='coerce').fillna(0).astype(int)\n",
    "dataframes['weekly_visits_by_model_category'] = df.copy()"
   ]
  },
  {
   "cell_type": "code",
   "execution_count": null,
   "metadata": {},
   "outputs": [],
   "source": [
    "# weekly_visits_by_page_type 처리\n",
    "df = dataframes['weekly_visits_by_page_type']\n",
    "df = df[~df[1].isin(['Week', pd.NaT, None])]\n",
    "df.columns = ['Page Type', 'WeekNumber', 'Visits']\n",
    "df['WeekNumber'] = pd.to_datetime(df['WeekNumber'])\n",
    "df['Visits'] = pd.to_numeric(df['Visits'], errors='coerce').fillna(0).astype(int)\n",
    "dataframes['weekly_visits_by_page_type'] = df.copy()"
   ]
  },
    {
   "cell_type": "code",
   "execution_count": null,
   "metadata": {},
   "outputs": [],
   "source": [
    "# weekly_visits_by_all_page_track 처리\n",
    "df = dataframes['weekly_visits_by_all_page_track']\n",
    "df = df[~df[1].isin(['Week', pd.NaT, None])]\n",
    "df.columns = ['All Page Track (p6)', 'WeekNumber', 'Visits']\n",
    "df['WeekNumber'] = pd.to_datetime(df['WeekNumber'])\n",
    "df['Visits'] = pd.to_numeric(df['Visits'], errors='coerce').fillna(0).astype(int)\n",
    "dataframes['weekly_visits_by_all_page_track'] = df.copy()"
   ]
  },
  {
   "cell_type": "code",
   "execution_count": null,
   "metadata": {},
   "outputs": [],
   "source": [
    "# model_cateogry_1_and_2depth 처리\n",
    "df = dataframes['model_cateogry_1_and_2depth']\n",
    "df = df[~df[1].isin(['Model Category_2depth', pd.NaT, None])]\n",
    "df.columns = ['Model Category_1depth', 'Model Category_2depth', 'Visits']\n",
    "df['Visits'] = pd.to_numeric(df['Visits'], errors='coerce').fillna(0).astype(int)\n",
    "dataframes['model_cateogry_1_and_2depth'] = df.copy()"
   ]
  },
  {
   "cell_type": "markdown",
   "metadata": {},
   "source": [
    "#### 데이터 병합 및 최종 가공"
   ]
  },
  {
   "cell_type": "code",
   "execution_count": null,
   "metadata": {},
   "outputs": [],
   "source": [
    "# df_week (주차 정보) 생성\n",
    "df_week = pd.DataFrame(dataframes['weekly_visits_by_model_category']['WeekNumber'].drop_duplicates())\n",
    "df_week.rename(columns={'WeekNumber': 'FirstDate'}, inplace=True)\n",
    "df_week['ISOYear'] = df_week['FirstDate'].dt.isocalendar().year.astype('str')\n",
    "df_week['ISOWeek'] = df_week['FirstDate'].dt.isocalendar().week.astype('str')\n",
    "df_week['WeekNumber'] = df_week['ISOYear'] + '-' + df_week['ISOWeek']\n",
    "df_week['LastDate'] = df_week['FirstDate'] + datetime.timedelta(days=6)\n",
    "dataframes['week'] = df_week[['WeekNumber', 'FirstDate', 'LastDate']].copy()"
   ]
  },
  {
   "cell_type": "code",
   "execution_count": null,
   "metadata": {},
   "outputs": [],
   "source": [
    "# 날짜(Date)를 주차(WeekNumber)로 변환하는 함수 정의\n",
    "def convert_date_to_week(df):\n",
    "    df.rename(columns={'WeekNumber': 'Date'}, inplace=True)\n",
    "    df['ISOYear'] = df['Date'].dt.isocalendar().year.astype('str')\n",
    "    df['ISOWeek'] = df['Date'].dt.isocalendar().week.astype('str')\n",
    "    df['WeekNumber'] = df['ISOYear'] + '-' + df['ISOWeek']\n",
    "    return df.drop(columns=['Date', 'ISOYear', 'ISOWeek'])"
   ]
  },
  {
   "cell_type": "code",
   "execution_count": null,
   "metadata": {},
   "outputs": [],
   "source": [
    "# 날짜 -> 주차 변환 적용\n",
    "dataframes['weekly_visits_by_model_category'] = convert_date_to_week(dataframes['weekly_visits_by_model_category'])\n",
    "dataframes['weekly_visits_by_page_type'] = convert_date_to_week(dataframes['weekly_visits_by_page_type'])\n",
    "dataframes['weekly_visits_by_all_page_track'] = convert_date_to_week(dataframes['weekly_visits_by_all_page_track'])"
   ]
  },
    {
   "cell_type": "code",
   "execution_count": null,
   "metadata": {},
   "outputs": [],
   "source": [
    "# weekly_visits_by_model_category_all 생성 (merge)\n",
    "df_merged = pd.merge(\n",
    "    left=dataframes['weekly_visits_by_model_category'], \n",
    "    right=dataframes['model_cateogry_1_and_2depth'], \n",
    "    how='left', \n",
    "    on='Model Category_2depth'\n",
    ")\n",
    "df_merged.drop(columns='Visits_y', inplace=True)\n",
    "df_merged.rename(columns={'Visits_x': 'Visits'}, inplace=True)\n",
    "dataframes['weekly_visits_by_model_category_all'] = df_merged[['WeekNumber', 'Model Category_1depth', 'Model Category_2depth', 'Visits']].copy()"
   ]
  },
  {
   "cell_type": "markdown",
   "metadata": {},
   "source": [
    "#### CSV로 저장"
   ]
  },
  {
   "cell_type": "code",
   "execution_count": null,
   "metadata": {},
   "outputs": [],
   "source": [
    "# 최종 데이터프레임들을 CSV 파일로 저장\n",
    "for name, df in dataframes.items():\n",
    "    # 저장할 파일들만 선택\n",
    "    if name in ['weekly_visits_by_page_type', 'weekly_visits_by_all_page_track', 'week', 'weekly_visits_by_model_category_all']:\n",
    "        output_path = os.path.join('./csv_raw', f'{name}.csv')\n",
    "        df.to_csv(output_path, index=False, encoding='utf-8-sig')\n",
    "        print(f\"'{output_path}' 저장 완료\")"
   ]
  }
 ],
 "metadata": {
  "kernelspec": {
   "display_name": "Python 3",
   "language": "python",
   "name": "python3"
  },
  "language_info": {
   "codemirror_mode": {
    "name": "ipython",
    "version": 3
   },
   "file_extension": ".py",
   "mimetype": "text/x-python",
   "name": "python",
   "nbconvert_exporter": "python",
   "pygments_lexer": "ipython3",
   "version": "3.9.13"
  },
  "orig_nbformat": 4
 },
 "nbformat": 4,
 "nbformat_minor": 2
}