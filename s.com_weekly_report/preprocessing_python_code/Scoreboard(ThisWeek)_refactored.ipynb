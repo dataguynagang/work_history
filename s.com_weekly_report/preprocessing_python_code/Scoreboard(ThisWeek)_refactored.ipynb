{
 "cells": [
  {
   "cell_type": "code",
   "execution_count": null,
   "metadata": {},
   "outputs": [],
   "source": [
    "# 필요한 라이브러리 로드\n",
    "import os\n",
    "import pandas as pd\n",
    "import xlwings as xw"
   ]
  },
  {
   "cell_type": "code",
   "execution_count": null,
   "metadata": {},
   "outputs": [],
   "source": [
    "# 'adobe_raw' 디렉토리에서 처리할 원본 파일 탐색\n",
    "# 'New_Weekly_Scoreboard(ThisWeek)_Ken'으로 시작하는 파일 사용\n",
    "for filename in os.listdir('./adobe_raw/'):\n",
    "    if filename.startswith('New_Weekly_Scoreboard(ThisWeek)_Ken'):\n",
    "        scoreboard_file = './adobe_raw/' + filename\n",
    "        break"
   ]
  },
  {
   "cell_type": "code",
   "execution_count": null,
   "metadata": {},
   "outputs": [],
   "source": [
    "# xlwings로 Excel 파일을 열고 데이터 읽기\n",
    "# DRM 보호 CSV 파일을 읽기 위해 Excel 앱을 직접 제어하는 xlwings 사용\n",
    "# try...finally 구문으로 Excel 앱의 확실한 종료 보장\n",
    "workbook = None\n",
    "try:\n",
    "    workbook = xw.Book(scoreboard_file)\n",
    "    sheet1 = workbook.sheets[0].used_range.value\n",
    "    df_scoreboard = pd.DataFrame(sheet1)\n",
    "finally:\n",
    "    if workbook:\n",
    "        workbook.app.quit()"
   ]
  },
  {
   "cell_type": "code",
   "execution_count": null,
   "metadata": {},
   "outputs": [],
   "source": [
    "# 원본 데이터 정제\n",
    "# 보고서의 헤더, 구분선, 불필요한 행들을 제거\n",
    "df_cleaned = df_scoreboard.iloc[8:]\n",
    "df_cleaned = df_cleaned[df_cleaned[0] != '##############################################']\n",
    "df_cleaned = df_cleaned.dropna(subset=[0])\n",
    "\n",
    "# 컬럼명으로 사용될 행 제거\n",
    "useless_rows = ['Hour of Day', 'Last Touch Channel']\n",
    "df_cleaned = df_cleaned[~df_cleaned[0].isin(useless_rows)]\n",
    "df_cleaned = df_cleaned.reset_index(drop=True).copy()"
   ]
  },
  {
   "cell_type": "code",
   "execution_count": null,
   "metadata": {},
   "outputs": [],
   "source": [
    "# 데이터 테이블별 인덱스 식별\n",
    "# 하나의 시트 안에 있는 여러 테이블을 분리하기 위해 각 테이블의 제목, 시작, 끝 인덱스를 찾음\n",
    "title_index = df_cleaned[df_cleaned[0].str.startswith('#', na=False)].index\n",
    "begin_index = title_index + 1\n",
    "end_index = title_index[1:].append(pd.Index([len(df_cleaned)]))"
   ]
  },
  {
   "cell_type": "code",
   "execution_count": null,
   "metadata": {},
   "outputs": [],
   "source": [
    "# 동적 변수 생성을 대체하는 딕셔너리 사용\n",
    "# globals() 대신 딕셔너리를 사용해 생성된 데이터프레임을 관리 (코드 안정성 및 가독성 향상)\n",
    "dataframes = {}\n",
    "df_names = []\n",
    "\n",
    "for ti, bi, ei in zip(title_index, begin_index, end_index):\n",
    "    # 테이블 제목에서 데이터프레임 이름 생성\n",
    "    df_name_raw = df_cleaned.iloc[ti][0]\n",
    "    df_name = \"df_\" + df_name_raw.replace('# ','').replace(' ','_').replace('(','_').replace(')','').lower()\n",
    "    df_names.append(df_name)\n",
    "    \n",
    "    # 인덱스를 사용해 원본 데이터프레임에서 테이블 분리\n",
    "    dataframes[df_name] = df_cleaned[bi:ei].copy()\n",
    "\n",
    "print(\"생성된 데이터프레임 목록:\", df_names)"
   ]
  },
  {
   "cell_type": "code",
   "execution_count": null,
   "metadata": {},
   "outputs": [],
   "source": [
    "# 시간대별 트래픽 데이터(df_hourly_traffic) 전처리\n",
    "# 1. MultiIndex 컬럼 설정\n",
    "df_hourly_traffic_col_list = [\n",
    "    ('Hour',''), ('All', 'All'), ('All', 'Mobile'), ('All', 'PC'),\n",
    "    ('Campaign', 'All'), ('Campaign', 'Mobile'), ('Campaign', 'PC')\n",
    "]\n",
    "df_hourly_traffic_col = pd.MultiIndex.from_tuples(df_hourly_traffic_col_list)\n",
    "dataframes['df_hourly_traffic'].columns = df_hourly_traffic_col\n",
    "\n",
    "# 2. 데이터 타입 변환 (오류 방지 로직 추가)\n",
    "for col in dataframes['df_hourly_traffic'].columns:\n",
    "    # 'Hour' 컬럼은 24시간 형식으로 변환\n",
    "    if col == ('Hour',''):\n",
    "        dataframes['df_hourly_traffic'][col] = (pd.to_numeric(dataframes['df_hourly_traffic'][col], errors='coerce').fillna(0) * 24).round(0).astype(int)\n",
    "    else:\n",
    "        dataframes['df_hourly_traffic'][col] = pd.to_numeric(dataframes['df_hourly_traffic'][col], errors='coerce').fillna(0).astype(int)"
   ]
  },
  {
   "cell_type": "code",
   "execution_count": null,
   "metadata": {},
   "outputs": [],
   "source": [
    "# 시간대별 트래픽 데이터(df_hourly_traffic) Melt\n",
    "# Wide format -> Long format으로 데이터 구조 변경\n",
    "df_hourly_traffic_melted = pd.melt(\n",
    "    dataframes['df_hourly_traffic'], \n",
    "    id_vars=[('Hour', '')],\n",
    "    var_name=['PageType', 'DeviceType'], \n",
    "    value_name='Visits'\n",
    ")\n",
    "df_hourly_traffic_melted.columns = ['Hour', 'PageType', 'DeviceType', 'Visits']\n",
    "dataframes['df_hourly_traffic_melted'] = df_hourly_traffic_melted # 딕셔너리에 추가"
   ]
  },
  {
   "cell_type": "code",
   "execution_count": null,
   "metadata": {},
   "outputs": [],
   "source": [
    "# 나머지 데이터프레임들 컬럼 정리\n",
    "dataframes['df_last_touch_channel'] = dataframes['df_last_touch_channel'][[0, 1]]\n",
    "dataframes['df_last_touch_channel'].columns = ['Last Touch Channel', 'Entries']\n",
    "\n",
    "dataframes['df_last_touch_channel_with_ptk_publisher'] = dataframes['df_last_touch_channel_with_ptk_publisher'][[0, 1, 2]]\n",
    "dataframes['df_last_touch_channel_with_ptk_publisher'].columns = ['Last Touch Channel', 'ptk_Publisher', 'Entries']\n",
    "\n",
    "dataframes['df_inbound_search_keyword_paid'] = dataframes['df_inbound_search_keyword_paid'][[0, 1]]\n",
    "dataframes['df_inbound_search_keyword_paid'].columns = ['Search Keyword', 'Searches']\n",
    "\n",
    "dataframes['df_inbound_search_keyword_natural'] = dataframes['df_inbound_search_keyword_natural'][[0, 1]]\n",
    "dataframes['df_inbound_search_keyword_natural'].columns = ['Search Keyword', 'Searches']\n",
    "\n",
    "dataframes['df_site_search_keyword'] = dataframes['df_site_search_keyword'][[0, 1]]\n",
    "dataframes['df_site_search_keyword'].columns = ['Search Keyword', 'Searches']\n",
    "\n",
    "# 사이트 검색어에서 불필요한 접두어 제거\n",
    "df_site_search = dataframes['df_site_search_keyword']\n",
    "df_site_search['Search Keyword'] = df_site_search['Search Keyword'].str.replace('GNB search var:','').str.replace('SRP search var:','').str.replace('search var:','').str.strip()"
   ]
  },
  {
   "cell_type": "code",
   "execution_count": null,
   "metadata": {},
   "outputs": [],
   "source": [
    "# 최종 데이터프레임들을 CSV 파일로 저장\n",
    "for name, df in dataframes.items():\n",
    "    # 이름에서 'df_' 접두어 제거하여 파일명 생성\n",
    "    file_name = name.replace('df_', '') + '.csv'\n",
    "    output_path = os.path.join('./csv_raw', file_name)\n",
    "    df.to_csv(output_path, index=False, encoding='utf-8-sig')\n",
    "    print(f\"'{output_path}' 저장 완료\")"
   ]
  }
 ],
 "metadata": {
  "kernelspec": {
   "display_name": "Python 3",
   "language": "python",
   "name": "python3"
  },
  "language_info": {
   "codemirror_mode": {
    "name": "ipython",
    "version": 3
   },
   "file_extension": ".py",
   "mimetype": "text/x-python",
   "name": "python",
   "nbconvert_exporter": "python",
   "pygments_lexer": "ipython3",
   "version": "3.9.13"
  },
  "orig_nbformat": 4
 },
 "nbformat": 4,
 "nbformat_minor": 2
}