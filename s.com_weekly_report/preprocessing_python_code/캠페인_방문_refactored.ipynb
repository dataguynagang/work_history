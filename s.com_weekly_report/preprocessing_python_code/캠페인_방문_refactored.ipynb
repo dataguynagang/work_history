{
 "cells": [
  {
   "cell_type": "markdown",
   "metadata": {},
   "source": [
    "### 전처리"
   ]
  },
  {
   "cell_type": "code",
   "execution_count": null,
   "metadata": {},
   "outputs": [],
   "source": [
    "# 필요한 라이브러리 로드\n",
    "import os\n",
    "import pandas as pd\n",
    "import xlwings as xw"
   ]
  },
  {
   "cell_type": "code",
   "execution_count": null,
   "metadata": {},
   "outputs": [],
   "source": [
    "# 'adobe_raw' 디렉토리에서 처리할 원본 파일 탐색\n",
    "# 'New_Weekly_캠페인_방문_Ken'으로 시작하는 파일 사용\n",
    "for filename in os.listdir('./adobe_raw/'):\n",
    "    if filename.startswith('New_Weekly_캠페인_방문_Ken'):\n",
    "        campaign_visit_file = './adobe_raw/' + filename\n",
    "        break"
   ]
  },
  {
   "cell_type": "code",
   "execution_count": null,
   "metadata": {},
   "outputs": [],
   "source": [
    "# xlwings로 Excel 파일을 열고 데이터 읽기\n",
    "# DRM 보호 CSV 파일을 읽기 위해 Excel 앱을 직접 제어하는 xlwings 사용\n",
    "# try...finally 구문으로 Excel 앱의 확실한 종료 보장\n",
    "workbook = None\n",
    "try:\n",
    "    workbook = xw.Book(campaign_visit_file)\n",
    "    sheet1 = workbook.sheets[0].used_range.value\n",
    "    df_campaign_visit = pd.DataFrame(sheet1)\n",
    "finally:\n",
    "    if workbook:\n",
    "        workbook.app.quit()"
   ]
  },
  {
   "cell_type": "code",
   "execution_count": null,
   "metadata": {},
   "outputs": [],
   "source": [
    "# 컬럼명 변경\n",
    "df_campaign_visit.columns = ['LastTouchChannel', 'WeekNumber','Entries']"
   ]
  },
  {
   "cell_type": "code",
   "execution_count": null,
   "metadata": {},
   "outputs": [],
   "source": [
    "# 리포트 헤더 부분(상위 8행) 제외\n",
    "# .copy()를 사용하여 SettingWithCopyWarning 방지\n",
    "df_campaign_visit = df_campaign_visit.iloc[8:].copy()"
   ]
  },
  {
   "cell_type": "code",
   "execution_count": null,
   "metadata": {},
   "outputs": [],
   "source": [
    "# 구분자(#######) 행 삭제\n",
    "df_campaign_visit = df_campaign_visit[df_campaign_visit['LastTouchChannel'] != '##############################################']"
   ]
  },
  {
   "cell_type": "code",
   "execution_count": null,
   "metadata": {},
   "outputs": [],
   "source": [
    "# CampaignName 컬럼 생성 및 값 채우기\n",
    "# Adobe Analytics 리포트 형식에 맞춰 캠페인명을 채워넣는 로직\n",
    "# '#'을 포함하는 행의 값을 campaign_name으로 간주하고, 그 아래 행들에 해당 값을 복사\n",
    "df_campaign_visit['CampaignName'] = df_campaign_visit['LastTouchChannel']\n",
    "\n",
    "# '#'을 포함하는 행만 남기고 나머지는 NaN으로 처리한 후, ffill로 빈 값을 채움\n",
    "campaign_names = df_campaign_visit['CampaignName'].where(df_campaign_visit['CampaignName'].str.contains('#', na=False))\n",
    "df_campaign_visit['CampaignName'] = campaign_names.ffill()"
   ]
  },
  {
   "cell_type": "code",
   "execution_count": null,
   "metadata": {},
   "outputs": [],
   "source": [
    "# 불필요한 행 및 결측치 제거\n",
    "df_campaign_visit = df_campaign_visit.dropna(subset=['LastTouchChannel'])\n",
    "df_campaign_visit = df_campaign_visit[df_campaign_visit['LastTouchChannel'] != 'Last Touch Channel']"
   ]
  },
    {
   "cell_type": "code",
   "execution_count": null,
   "metadata": {},
   "outputs": [],
   "source": [
    "# 데이터 타입 변경\n",
    "# pd.to_numeric과 .fillna(0)를 사용하여 안정적인 타입 변환\n",
    "df_campaign_visit['Entries'] = pd.to_numeric(df_campaign_visit['Entries'], errors='coerce').fillna(0).astype(int)"
   ]
  },
  {
   "cell_type": "code",
   "execution_count": null,
   "metadata": {},
   "outputs": [],
   "source": [
    "# csv 파일로 저장\n",
    "df_campaign_visit.to_csv('./csv_raw/campaign_visit.csv', index=False, encoding='utf-8-sig')"
   ]
  }
 ],
 "metadata": {
  "kernelspec": {
   "display_name": "Python 3",
   "language": "python",
   "name": "python3"
  },
  "language_info": {
   "codemirror_mode": {
    "name": "ipython",
    "version": 3
   },
   "file_extension": ".py",
   "mimetype": "text/x-python",
   "name": "python",
   "nbconvert_exporter": "python",
   "pygments_lexer": "ipython3",
   "version": "3.9.13"
  },
  "orig_nbformat": 4
 },
 "nbformat": 4,
 "nbformat_minor": 2
}